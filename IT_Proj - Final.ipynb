{
 "cells": [
  {
   "cell_type": "code",
   "execution_count": 36,
   "metadata": {},
   "outputs": [],
   "source": [
    "import matplotlib.pyplot as plt \n",
    "import numpy as np\n",
    "import pickle\n",
    "import pandas as pd \n",
    "import re\n",
    "from sklearn.ensemble import RandomForestClassifier, GradientBoostingClassifier\n",
    "from sklearn.metrics import classification_report\n",
    "from sklearn.model_selection import train_test_split, RandomizedSearchCV, StratifiedKFold, GridSearchCV\n",
    "from sklearn.neighbors import KNeighborsClassifier\n",
    "from sklearn.preprocessing import StandardScaler\n",
    "from sklearn.svm import SVC\n",
    "from sklearn.tree import DecisionTreeClassifier"
   ]
  },
  {
   "cell_type": "markdown",
   "metadata": {},
   "source": [
    "## 1. Loading, Processing and Splitting Data"
   ]
  },
  {
   "cell_type": "code",
   "execution_count": 2,
   "metadata": {},
   "outputs": [
    {
     "name": "stdout",
     "output_type": "stream",
     "text": [
      "Dimensions of DataFrame: (2193, 351)\n"
     ]
    },
    {
     "data": {
      "text/html": [
       "<div>\n",
       "<style scoped>\n",
       "    .dataframe tbody tr th:only-of-type {\n",
       "        vertical-align: middle;\n",
       "    }\n",
       "\n",
       "    .dataframe tbody tr th {\n",
       "        vertical-align: top;\n",
       "    }\n",
       "\n",
       "    .dataframe thead th {\n",
       "        text-align: right;\n",
       "    }\n",
       "</style>\n",
       "<table border=\"1\" class=\"dataframe\">\n",
       "  <thead>\n",
       "    <tr style=\"text-align: right;\">\n",
       "      <th></th>\n",
       "      <th>length_51</th>\n",
       "      <th>length_52</th>\n",
       "      <th>length_53</th>\n",
       "      <th>length_54</th>\n",
       "      <th>length_55</th>\n",
       "      <th>length_56</th>\n",
       "      <th>length_57</th>\n",
       "      <th>length_58</th>\n",
       "      <th>length_59</th>\n",
       "      <th>length_60</th>\n",
       "      <th>...</th>\n",
       "      <th>length_392</th>\n",
       "      <th>length_393</th>\n",
       "      <th>length_394</th>\n",
       "      <th>length_395</th>\n",
       "      <th>length_396</th>\n",
       "      <th>length_397</th>\n",
       "      <th>length_398</th>\n",
       "      <th>length_399</th>\n",
       "      <th>length_400</th>\n",
       "      <th>class_label</th>\n",
       "    </tr>\n",
       "  </thead>\n",
       "  <tbody>\n",
       "    <tr>\n",
       "      <th>0</th>\n",
       "      <td>0.000152</td>\n",
       "      <td>0.000082</td>\n",
       "      <td>0.000087</td>\n",
       "      <td>0.000092</td>\n",
       "      <td>0.000099</td>\n",
       "      <td>0.000125</td>\n",
       "      <td>0.000122</td>\n",
       "      <td>0.000115</td>\n",
       "      <td>0.000151</td>\n",
       "      <td>0.000167</td>\n",
       "      <td>...</td>\n",
       "      <td>0.007396</td>\n",
       "      <td>0.007193</td>\n",
       "      <td>0.006973</td>\n",
       "      <td>0.006481</td>\n",
       "      <td>0.006139</td>\n",
       "      <td>0.005958</td>\n",
       "      <td>0.005578</td>\n",
       "      <td>0.005327</td>\n",
       "      <td>0.005142</td>\n",
       "      <td>healthy</td>\n",
       "    </tr>\n",
       "    <tr>\n",
       "      <th>1</th>\n",
       "      <td>0.006256</td>\n",
       "      <td>0.006413</td>\n",
       "      <td>0.006512</td>\n",
       "      <td>0.006469</td>\n",
       "      <td>0.006810</td>\n",
       "      <td>0.007070</td>\n",
       "      <td>0.007748</td>\n",
       "      <td>0.008088</td>\n",
       "      <td>0.008671</td>\n",
       "      <td>0.008835</td>\n",
       "      <td>...</td>\n",
       "      <td>0.017830</td>\n",
       "      <td>0.017033</td>\n",
       "      <td>0.016373</td>\n",
       "      <td>0.015371</td>\n",
       "      <td>0.014340</td>\n",
       "      <td>0.013975</td>\n",
       "      <td>0.013243</td>\n",
       "      <td>0.012725</td>\n",
       "      <td>0.012267</td>\n",
       "      <td>healthy</td>\n",
       "    </tr>\n",
       "    <tr>\n",
       "      <th>2</th>\n",
       "      <td>0.003783</td>\n",
       "      <td>0.003886</td>\n",
       "      <td>0.004063</td>\n",
       "      <td>0.004237</td>\n",
       "      <td>0.004481</td>\n",
       "      <td>0.004832</td>\n",
       "      <td>0.004960</td>\n",
       "      <td>0.005605</td>\n",
       "      <td>0.005919</td>\n",
       "      <td>0.006480</td>\n",
       "      <td>...</td>\n",
       "      <td>0.010957</td>\n",
       "      <td>0.010481</td>\n",
       "      <td>0.009782</td>\n",
       "      <td>0.009211</td>\n",
       "      <td>0.008800</td>\n",
       "      <td>0.008320</td>\n",
       "      <td>0.007869</td>\n",
       "      <td>0.007286</td>\n",
       "      <td>0.007020</td>\n",
       "      <td>healthy</td>\n",
       "    </tr>\n",
       "    <tr>\n",
       "      <th>3</th>\n",
       "      <td>0.004635</td>\n",
       "      <td>0.004471</td>\n",
       "      <td>0.004383</td>\n",
       "      <td>0.004829</td>\n",
       "      <td>0.004920</td>\n",
       "      <td>0.005056</td>\n",
       "      <td>0.005475</td>\n",
       "      <td>0.006158</td>\n",
       "      <td>0.007174</td>\n",
       "      <td>0.007697</td>\n",
       "      <td>...</td>\n",
       "      <td>0.010032</td>\n",
       "      <td>0.008933</td>\n",
       "      <td>0.008970</td>\n",
       "      <td>0.008546</td>\n",
       "      <td>0.008125</td>\n",
       "      <td>0.007587</td>\n",
       "      <td>0.007501</td>\n",
       "      <td>0.006931</td>\n",
       "      <td>0.006663</td>\n",
       "      <td>healthy</td>\n",
       "    </tr>\n",
       "    <tr>\n",
       "      <th>4</th>\n",
       "      <td>0.011315</td>\n",
       "      <td>0.010045</td>\n",
       "      <td>0.009795</td>\n",
       "      <td>0.009906</td>\n",
       "      <td>0.010630</td>\n",
       "      <td>0.011467</td>\n",
       "      <td>0.013024</td>\n",
       "      <td>0.014853</td>\n",
       "      <td>0.016874</td>\n",
       "      <td>0.017501</td>\n",
       "      <td>...</td>\n",
       "      <td>0.009118</td>\n",
       "      <td>0.008535</td>\n",
       "      <td>0.008233</td>\n",
       "      <td>0.007754</td>\n",
       "      <td>0.007584</td>\n",
       "      <td>0.006933</td>\n",
       "      <td>0.006530</td>\n",
       "      <td>0.006378</td>\n",
       "      <td>0.005842</td>\n",
       "      <td>healthy</td>\n",
       "    </tr>\n",
       "  </tbody>\n",
       "</table>\n",
       "<p>5 rows × 351 columns</p>\n",
       "</div>"
      ],
      "text/plain": [
       "   length_51  length_52  length_53  length_54  length_55  length_56  \\\n",
       "0   0.000152   0.000082   0.000087   0.000092   0.000099   0.000125   \n",
       "1   0.006256   0.006413   0.006512   0.006469   0.006810   0.007070   \n",
       "2   0.003783   0.003886   0.004063   0.004237   0.004481   0.004832   \n",
       "3   0.004635   0.004471   0.004383   0.004829   0.004920   0.005056   \n",
       "4   0.011315   0.010045   0.009795   0.009906   0.010630   0.011467   \n",
       "\n",
       "   length_57  length_58  length_59  length_60  ...  length_392  length_393  \\\n",
       "0   0.000122   0.000115   0.000151   0.000167  ...    0.007396    0.007193   \n",
       "1   0.007748   0.008088   0.008671   0.008835  ...    0.017830    0.017033   \n",
       "2   0.004960   0.005605   0.005919   0.006480  ...    0.010957    0.010481   \n",
       "3   0.005475   0.006158   0.007174   0.007697  ...    0.010032    0.008933   \n",
       "4   0.013024   0.014853   0.016874   0.017501  ...    0.009118    0.008535   \n",
       "\n",
       "   length_394  length_395  length_396  length_397  length_398  length_399  \\\n",
       "0    0.006973    0.006481    0.006139    0.005958    0.005578    0.005327   \n",
       "1    0.016373    0.015371    0.014340    0.013975    0.013243    0.012725   \n",
       "2    0.009782    0.009211    0.008800    0.008320    0.007869    0.007286   \n",
       "3    0.008970    0.008546    0.008125    0.007587    0.007501    0.006931   \n",
       "4    0.008233    0.007754    0.007584    0.006933    0.006530    0.006378   \n",
       "\n",
       "   length_400  class_label  \n",
       "0    0.005142      healthy  \n",
       "1    0.012267      healthy  \n",
       "2    0.007020      healthy  \n",
       "3    0.006663      healthy  \n",
       "4    0.005842      healthy  \n",
       "\n",
       "[5 rows x 351 columns]"
      ]
     },
     "execution_count": 2,
     "metadata": {},
     "output_type": "execute_result"
    }
   ],
   "source": [
    "df = pd.read_csv(r\".\\NUS_IT\\Train_Set.csv\")\n",
    "val_df = pd.read_csv(r\".\\NUS_IT\\Test_Set.csv\")\n",
    "print(\"Dimensions of DataFrame:\",df.shape)\n",
    "df.head()"
   ]
  },
  {
   "cell_type": "code",
   "execution_count": 3,
   "metadata": {},
   "outputs": [
    {
     "data": {
      "text/plain": [
       "Index([], dtype='object')"
      ]
     },
     "execution_count": 3,
     "metadata": {},
     "output_type": "execute_result"
    }
   ],
   "source": [
    "## Checking the number of columns with missing values \n",
    "df.columns[df.isna().sum()>0] # no columns with missing values "
   ]
  },
  {
   "cell_type": "code",
   "execution_count": 4,
   "metadata": {},
   "outputs": [
    {
     "data": {
      "text/plain": [
       "float64    350\n",
       "object       1\n",
       "dtype: int64"
      ]
     },
     "execution_count": 4,
     "metadata": {},
     "output_type": "execute_result"
    }
   ],
   "source": [
    "df.dtypes.value_counts() # 350 columns with float dtypes (decimal type); 1 which is non-numeric (target)"
   ]
  },
  {
   "cell_type": "code",
   "execution_count": 5,
   "metadata": {},
   "outputs": [
    {
     "data": {
      "text/plain": [
       "early stage cancer        781\n",
       "screening stage cancer    490\n",
       "mid stage cancer          453\n",
       "late stage cancer         409\n",
       "healthy                    60\n",
       "Name: class_label, dtype: int64"
      ]
     },
     "execution_count": 5,
     "metadata": {},
     "output_type": "execute_result"
    }
   ],
   "source": [
    "df['class_label'].value_counts() # imbalanced dataset; either will upsample using SMOTE / use class weights; latter approach preferable"
   ]
  },
  {
   "cell_type": "code",
   "execution_count": 6,
   "metadata": {},
   "outputs": [
    {
     "data": {
      "text/plain": [
       "2    781\n",
       "1    550\n",
       "3    453\n",
       "4    409\n",
       "Name: class_label, dtype: int64"
      ]
     },
     "execution_count": 6,
     "metadata": {},
     "output_type": "execute_result"
    }
   ],
   "source": [
    "dic={\"healthy\":1,\"screening stage cancer\":1,\"early stage cancer\":2,\"mid stage cancer\":3,\"late stage cancer\":4} \n",
    "# presumption is that screening stage is before early stage --> \n",
    "# no development of cancer certain; only being checked\n",
    "# will equate that with healthy stage\n",
    "df['class_label'].map(dic).value_counts() # mapped appropriately"
   ]
  },
  {
   "cell_type": "code",
   "execution_count": 7,
   "metadata": {},
   "outputs": [],
   "source": [
    "df['class_label'] = df['class_label'].map(dic)           \n",
    "# changes the class_label column to numeric (ML model requires numeric data)\n",
    "val_df['class_label'] = val_df['class_label'].map(dic) \n",
    "# likewise for the class_label column in the calidation dataset (val_df)"
   ]
  },
  {
   "cell_type": "code",
   "execution_count": 8,
   "metadata": {},
   "outputs": [],
   "source": [
    "#### --> train test split first (from only the train data csv ; test data csv will be used for validation (unseen data))\n",
    "r_state = 27 # for controlling of state \n",
    "target = \"class_label\" \n",
    "# for benefit of ez reference >> as opposed to always typing \"class_label\"\n",
    "X_features=[i for i in df.columns if i!=target] \n",
    "# all independent features\n",
    "X_train,X_test,y_train,y_test= train_test_split(df[X_features],df[target],test_size=0.35,stratify=df[target],random_state = r_state)\n",
    "df = pd.concat([X_train,y_train],axis=1) \n",
    "# train dataset\n",
    "dft = pd.concat([X_test,y_test],axis=1) \n",
    "# test dataset"
   ]
  },
  {
   "cell_type": "code",
   "execution_count": 9,
   "metadata": {},
   "outputs": [],
   "source": [
    "scaler = StandardScaler()\n",
    "df[X_features] = scaler.fit_transform(df[X_features]) # train data (df) is used for fitting and transformation"
   ]
  },
  {
   "cell_type": "markdown",
   "metadata": {},
   "source": [
    "Based on the train_set csv file, no data has to be imputed owing to all columns being fully filled. \n",
    "350/351 columns are also numeric; with only the taget column (class_label) being ordinal; and thus requiring Label Encoding \n",
    "performed manually using a dictionary. \n",
    "\n",
    "For the encoding of this column, both Healthy and Screening Stage patients are assigned \n",
    "to the same category (Healthy/Screenign Stage) owing to the lack of evidence for people in both of these categories to having \n",
    "a specific stage of cancer + the low sample size of Healthy patients alone. With all classes having a various number of samples\n",
    "that isn't balanced - class_weights will be used in the training of models to overcome this problem. \n",
    "Standardisation is also employed to scale the data in such a way that it performs well on Machine Learning (ML) models like \n",
    "K-Nearest Neighbours (KNNs) and Support Vector Machines (SVMs)."
   ]
  },
  {
   "cell_type": "markdown",
   "metadata": {},
   "source": [
    "## 2. Identifying Important Features and Model Comparisons"
   ]
  },
  {
   "cell_type": "code",
   "execution_count": 10,
   "metadata": {},
   "outputs": [],
   "source": [
    "model = RandomForestClassifier(random_state=r_state,class_weight='balanced')\n",
    "model.fit(df[X_features], df[target])\n",
    "sig_features = model.feature_importances_\n",
    "feature_scores = sorted([(i,e) for i,e in enumerate(sig_features)],key=lambda x:x[-1],reverse=True)\n",
    "forest_features = df.columns[list(map(lambda x:x[0],feature_scores))]"
   ]
  },
  {
   "cell_type": "code",
   "execution_count": 11,
   "metadata": {},
   "outputs": [],
   "source": [
    "# Also will take a while as model is being trained\n",
    "def model_trainer(df,dft,best_cols):\n",
    "    dt_clf  = DecisionTreeClassifier(random_state=r_state,class_weight='balanced')\n",
    "    dt_clf.fit(df[best_cols],df[target])\n",
    "\n",
    "    rf_clf  = RandomForestClassifier(random_state=r_state,class_weight='balanced')\n",
    "    rf_clf.fit(df[best_cols],df[target])\n",
    "\n",
    "    xgb_clf = GradientBoostingClassifier(random_state=r_state)\n",
    "    xgb_clf.fit(df[best_cols],df[target])\n",
    "\n",
    "    svm_clf = SVC(random_state=r_state,gamma='scale')\n",
    "    svm_clf.fit(df[best_cols],df[target])\n",
    "    \n",
    "    sqrt_n = ((df.shape[0])**0.5)//1\n",
    "    sqrt_n = int(sqrt_n + (1 if sqrt_n%2==0 else 0))\n",
    "    knn_clf = KNeighborsClassifier(n_neighbors = sqrt_n)\n",
    "    knn_clf.fit(df[best_cols],df[target])\n",
    "\n",
    "    dt_pred  = dt_clf.predict(dft[best_cols])\n",
    "    rf_pred  = rf_clf.predict(dft[best_cols])\n",
    "    xgb_pred = xgb_clf.predict(dft[best_cols])\n",
    "    svm_pred = svm_clf.predict(dft[best_cols])\n",
    "    knn_pred = knn_clf.predict(dft[best_cols])\n",
    "\n",
    "    reverse_lis = [k for k,v in sorted(dic.items(),key=lambda x:x[-1])]\n",
    "    reverse_lis = [reverse_lis[0]+'/'+reverse_lis[1]]+reverse_lis[2:]\n",
    "    \n",
    "    print(\"Decision Tree Report:\")\n",
    "    dt_r = classification_report(dft[target],dt_pred,target_names = reverse_lis)\n",
    "    print(dt_r)\n",
    "    print(\"Random Forest Report:\")\n",
    "    rf_r = classification_report(dft[target],rf_pred,target_names = reverse_lis)\n",
    "    print(rf_r)\n",
    "    print(\"XGBoost Report:\")\n",
    "    xg_r = classification_report(dft[target],xgb_pred,target_names = reverse_lis)\n",
    "    print(xg_r)\n",
    "    print(\"SVM Report:\")\n",
    "    sv_r = classification_report(dft[target],svm_pred,target_names = reverse_lis)\n",
    "    print(sv_r)\n",
    "    print(\"KNN Report:\")\n",
    "    kn_r = classification_report(dft[target],knn_pred,target_names = reverse_lis)\n",
    "    print(kn_r)\n",
    "    return [dt_r,rf_r,xg_r,sv_r,kn_r]"
   ]
  },
  {
   "cell_type": "markdown",
   "metadata": {},
   "source": [
    "5 different ML models are utilised - Decision Trees, Random Forest, Extreme Gradient Boosting, KNN and SVM\n",
    "The metrics from sklearn's classification reports are used as a standard to compare the performances of the models, \n",
    "notably with the f1 score. \n",
    "\n",
    "Models with significantly poorer f1 score results will be removed further on and hyperparameter\n",
    "tuning will be performed on the best-performing model from the 5 selected above."
   ]
  },
  {
   "cell_type": "code",
   "execution_count": 12,
   "metadata": {},
   "outputs": [
    {
     "data": {
      "image/png": "[encoded data removed]",
      "text/plain": [
       "<Figure size 2500x800 with 1 Axes>"
      ]
     },
     "metadata": {},
     "output_type": "display_data"
    }
   ],
   "source": [
    "scores_by_cols = sorted(list(zip(forest_features,map(lambda x:x[-1],feature_scores))),key=lambda x:int(x[0].split('_')[-1]))\n",
    "colnames = list(map(lambda x:x[0].split('_')[-1],scores_by_cols))\n",
    "scores = list(map(lambda x:x[1],scores_by_cols))\n",
    "plt.figure(figsize=(25,8))\n",
    "plt.scatter(colnames,scores)\n",
    "plt.xticks(rotation=90)\n",
    "plt.tick_params(axis='x',labelsize=4.5)\n",
    "plt.show()"
   ]
  },
  {
   "cell_type": "markdown",
   "metadata": {},
   "source": [
    "In the meanwhile, the feature scores of the different independent columns are observed - with the aim being to identify a benchmark\n",
    "at which a number of features can be chosen to grant good performance for the final ML model without requiring too many features to be selected - avoiding the [curse of dimensionality](https://dataloop.ai/blog/the-curse-of-dimensionality-dimension-reduction/#:~:text=The%20curse%20of%20dimensionality%20refers,features%20that%20exist%20in%20it)."
   ]
  },
  {
   "cell_type": "code",
   "execution_count": 13,
   "metadata": {},
   "outputs": [
    {
     "name": "stdout",
     "output_type": "stream",
     "text": [
      "Median Score: 0.0016886480692305493\n",
      "Mean Score  : 0.0028571428571428576\n",
      "Scores at 25th percentile: 0.001143 and\n",
      "\t  75th percentile: 0.002875\n"
     ]
    }
   ],
   "source": [
    "scores = np.array(scores)\n",
    "print(f\"Median Score: {np.median(scores)}\")\n",
    "print(f\"Mean Score  : {np.mean(scores)}\")\n",
    "iqr = np.quantile(scores,(0.25,0.75))\n",
    "print(f\"Scores at 25th percentile: {iqr[0]:.6f} and\\n\\t  75th percentile: {iqr[-1]:.6f}\")"
   ]
  },
  {
   "cell_type": "code",
   "execution_count": 14,
   "metadata": {},
   "outputs": [
    {
     "name": "stdout",
     "output_type": "stream",
     "text": [
      "Number of Features with scores\n",
      "above the 25th percentile : 262\n",
      "above the median          : 175\n",
      "above the mean            : 90\n",
      "above the 75th percentile : 88\n"
     ]
    }
   ],
   "source": [
    "above_75th = len(scores[scores>=iqr[1]])\n",
    "above_mean = len(scores[scores>=np.mean(scores)])\n",
    "above_median = len(scores[scores>=np.median(scores)])\n",
    "above_25th = len(scores[scores>=iqr[0]])\n",
    "above_p = [('25th percentile',above_25th),('median',above_median),('mean',above_mean),('75th percentile',above_75th)]\n",
    "print(\"Number of Features with scores\\n\" +'\\n'.join([f'above the {i[0]:<16}: '+str(i[-1]) for i in above_p]))\n",
    "# aim to look at number of top n-ranked features where n is \n",
    "# a number from 90 - 275 >> basis of comparison against all features (350)"
   ]
  },
  {
   "cell_type": "markdown",
   "metadata": {},
   "source": [
    "Given how there are 88 features with a score above the 75th percentile of the scores of all features and 262 features with a score above the 25th percentile, we aim to observe the performance of our ML models based on set changes in the number of features used in our dataset and compare the average f1 score for accuracy, macro avg and weighted avg amongst all the models"
   ]
  },
  {
   "cell_type": "code",
   "execution_count": 15,
   "metadata": {},
   "outputs": [],
   "source": [
    "dft[X_features] = scaler.transform(dft[X_features]) \n",
    "# test set of data is scaled based off standardized range of train data"
   ]
  },
  {
   "cell_type": "code",
   "execution_count": 16,
   "metadata": {},
   "outputs": [
    {
     "name": "stdout",
     "output_type": "stream",
     "text": [
      "Top 90 features\n",
      "Decision Tree Report:\n",
      "                                precision    recall  f1-score   support\n",
      "\n",
      "healthy/screening stage cancer       0.81      0.84      0.83       193\n",
      "            early stage cancer       0.81      0.78      0.79       273\n",
      "              mid stage cancer       0.73      0.78      0.76       159\n",
      "             late stage cancer       0.92      0.87      0.90       143\n",
      "\n",
      "                      accuracy                           0.81       768\n",
      "                     macro avg       0.82      0.82      0.82       768\n",
      "                  weighted avg       0.81      0.81      0.81       768\n",
      "\n",
      "Random Forest Report:\n",
      "                                precision    recall  f1-score   support\n",
      "\n",
      "healthy/screening stage cancer       0.87      0.90      0.89       193\n",
      "            early stage cancer       0.85      0.86      0.86       273\n",
      "              mid stage cancer       0.79      0.80      0.80       159\n",
      "             late stage cancer       0.94      0.85      0.89       143\n",
      "\n",
      "                      accuracy                           0.86       768\n",
      "                     macro avg       0.86      0.85      0.86       768\n",
      "                  weighted avg       0.86      0.86      0.86       768\n",
      "\n",
      "XGBoost Report:\n",
      "                                precision    recall  f1-score   support\n",
      "\n",
      "healthy/screening stage cancer       0.87      0.87      0.87       193\n",
      "            early stage cancer       0.83      0.87      0.85       273\n",
      "              mid stage cancer       0.77      0.79      0.78       159\n",
      "             late stage cancer       0.94      0.81      0.87       143\n",
      "\n",
      "                      accuracy                           0.84       768\n",
      "                     macro avg       0.85      0.83      0.84       768\n",
      "                  weighted avg       0.85      0.84      0.84       768\n",
      "\n",
      "SVM Report:\n",
      "                                precision    recall  f1-score   support\n",
      "\n",
      "healthy/screening stage cancer       0.76      0.68      0.72       193\n",
      "            early stage cancer       0.68      0.80      0.74       273\n",
      "              mid stage cancer       0.69      0.66      0.67       159\n",
      "             late stage cancer       0.92      0.78      0.85       143\n",
      "\n",
      "                      accuracy                           0.74       768\n",
      "                     macro avg       0.76      0.73      0.74       768\n",
      "                  weighted avg       0.75      0.74      0.74       768\n",
      "\n",
      "KNN Report:\n",
      "                                precision    recall  f1-score   support\n",
      "\n",
      "healthy/screening stage cancer       0.72      0.59      0.65       193\n",
      "            early stage cancer       0.61      0.80      0.69       273\n",
      "              mid stage cancer       0.64      0.60      0.62       159\n",
      "             late stage cancer       0.96      0.71      0.82       143\n",
      "\n",
      "                      accuracy                           0.69       768\n",
      "                     macro avg       0.73      0.67      0.70       768\n",
      "                  weighted avg       0.71      0.69      0.69       768\n",
      "\n",
      "Top 100 features\n",
      "Decision Tree Report:\n",
      "                                precision    recall  f1-score   support\n",
      "\n",
      "healthy/screening stage cancer       0.81      0.80      0.81       193\n",
      "            early stage cancer       0.80      0.82      0.81       273\n",
      "              mid stage cancer       0.79      0.79      0.79       159\n",
      "             late stage cancer       0.91      0.87      0.89       143\n",
      "\n",
      "                      accuracy                           0.82       768\n",
      "                     macro avg       0.83      0.82      0.82       768\n",
      "                  weighted avg       0.82      0.82      0.82       768\n",
      "\n",
      "Random Forest Report:\n",
      "                                precision    recall  f1-score   support\n",
      "\n",
      "healthy/screening stage cancer       0.86      0.90      0.88       193\n",
      "            early stage cancer       0.85      0.86      0.85       273\n",
      "              mid stage cancer       0.79      0.82      0.80       159\n",
      "             late stage cancer       0.95      0.85      0.89       143\n",
      "\n",
      "                      accuracy                           0.86       768\n",
      "                     macro avg       0.86      0.85      0.86       768\n",
      "                  weighted avg       0.86      0.86      0.86       768\n",
      "\n",
      "XGBoost Report:\n",
      "                                precision    recall  f1-score   support\n",
      "\n",
      "healthy/screening stage cancer       0.87      0.85      0.86       193\n",
      "            early stage cancer       0.83      0.87      0.85       273\n",
      "              mid stage cancer       0.76      0.81      0.78       159\n",
      "             late stage cancer       0.94      0.81      0.87       143\n",
      "\n",
      "                      accuracy                           0.84       768\n",
      "                     macro avg       0.85      0.84      0.84       768\n",
      "                  weighted avg       0.85      0.84      0.84       768\n",
      "\n",
      "SVM Report:\n",
      "                                precision    recall  f1-score   support\n",
      "\n",
      "healthy/screening stage cancer       0.75      0.67      0.71       193\n",
      "            early stage cancer       0.68      0.79      0.73       273\n",
      "              mid stage cancer       0.68      0.67      0.68       159\n",
      "             late stage cancer       0.93      0.79      0.85       143\n",
      "\n",
      "                      accuracy                           0.74       768\n",
      "                     macro avg       0.76      0.73      0.74       768\n",
      "                  weighted avg       0.75      0.74      0.74       768\n",
      "\n",
      "KNN Report:\n",
      "                                precision    recall  f1-score   support\n",
      "\n",
      "healthy/screening stage cancer       0.73      0.55      0.63       193\n",
      "            early stage cancer       0.60      0.82      0.69       273\n",
      "              mid stage cancer       0.64      0.58      0.61       159\n",
      "             late stage cancer       0.95      0.72      0.82       143\n",
      "\n",
      "                      accuracy                           0.68       768\n",
      "                     macro avg       0.73      0.67      0.69       768\n",
      "                  weighted avg       0.71      0.68      0.69       768\n",
      "\n",
      "Top 125 features\n",
      "Decision Tree Report:\n",
      "                                precision    recall  f1-score   support\n",
      "\n",
      "healthy/screening stage cancer       0.80      0.83      0.82       193\n",
      "            early stage cancer       0.80      0.82      0.81       273\n",
      "              mid stage cancer       0.78      0.74      0.76       159\n",
      "             late stage cancer       0.91      0.87      0.89       143\n",
      "\n",
      "                      accuracy                           0.82       768\n",
      "                     macro avg       0.82      0.82      0.82       768\n",
      "                  weighted avg       0.82      0.82      0.82       768\n",
      "\n",
      "Random Forest Report:\n",
      "                                precision    recall  f1-score   support\n",
      "\n",
      "healthy/screening stage cancer       0.86      0.89      0.87       193\n",
      "            early stage cancer       0.85      0.86      0.86       273\n",
      "              mid stage cancer       0.79      0.81      0.80       159\n",
      "             late stage cancer       0.94      0.85      0.89       143\n",
      "\n",
      "                      accuracy                           0.85       768\n",
      "                     macro avg       0.86      0.85      0.85       768\n",
      "                  weighted avg       0.86      0.85      0.85       768\n",
      "\n",
      "XGBoost Report:\n",
      "                                precision    recall  f1-score   support\n",
      "\n",
      "healthy/screening stage cancer       0.87      0.86      0.86       193\n",
      "            early stage cancer       0.83      0.86      0.84       273\n",
      "              mid stage cancer       0.77      0.81      0.79       159\n",
      "             late stage cancer       0.94      0.83      0.88       143\n",
      "\n",
      "                      accuracy                           0.84       768\n",
      "                     macro avg       0.85      0.84      0.84       768\n",
      "                  weighted avg       0.85      0.84      0.84       768\n",
      "\n",
      "SVM Report:\n",
      "                                precision    recall  f1-score   support\n",
      "\n",
      "healthy/screening stage cancer       0.75      0.67      0.71       193\n",
      "            early stage cancer       0.68      0.79      0.73       273\n",
      "              mid stage cancer       0.68      0.67      0.68       159\n",
      "             late stage cancer       0.93      0.78      0.85       143\n",
      "\n",
      "                      accuracy                           0.74       768\n",
      "                     macro avg       0.76      0.73      0.74       768\n",
      "                  weighted avg       0.74      0.74      0.74       768\n",
      "\n",
      "KNN Report:\n",
      "                                precision    recall  f1-score   support\n",
      "\n",
      "healthy/screening stage cancer       0.70      0.52      0.60       193\n",
      "            early stage cancer       0.59      0.81      0.68       273\n",
      "              mid stage cancer       0.66      0.59      0.62       159\n",
      "             late stage cancer       0.96      0.73      0.83       143\n",
      "\n",
      "                      accuracy                           0.68       768\n",
      "                     macro avg       0.73      0.66      0.68       768\n",
      "                  weighted avg       0.70      0.68      0.68       768\n",
      "\n",
      "Top 150 features\n",
      "Decision Tree Report:\n",
      "                                precision    recall  f1-score   support\n",
      "\n",
      "healthy/screening stage cancer       0.80      0.84      0.82       193\n",
      "            early stage cancer       0.80      0.79      0.80       273\n",
      "              mid stage cancer       0.72      0.73      0.73       159\n",
      "             late stage cancer       0.91      0.84      0.87       143\n",
      "\n",
      "                      accuracy                           0.80       768\n",
      "                     macro avg       0.81      0.80      0.80       768\n",
      "                  weighted avg       0.80      0.80      0.80       768\n",
      "\n",
      "Random Forest Report:\n",
      "                                precision    recall  f1-score   support\n",
      "\n",
      "healthy/screening stage cancer       0.87      0.90      0.89       193\n",
      "            early stage cancer       0.86      0.87      0.86       273\n",
      "              mid stage cancer       0.81      0.81      0.81       159\n",
      "             late stage cancer       0.94      0.87      0.90       143\n",
      "\n",
      "                      accuracy                           0.86       768\n",
      "                     macro avg       0.87      0.86      0.86       768\n",
      "                  weighted avg       0.86      0.86      0.86       768\n",
      "\n",
      "XGBoost Report:\n",
      "                                precision    recall  f1-score   support\n",
      "\n",
      "healthy/screening stage cancer       0.89      0.88      0.88       193\n",
      "            early stage cancer       0.84      0.88      0.86       273\n",
      "              mid stage cancer       0.77      0.80      0.78       159\n",
      "             late stage cancer       0.94      0.82      0.87       143\n",
      "\n",
      "                      accuracy                           0.85       768\n",
      "                     macro avg       0.86      0.84      0.85       768\n",
      "                  weighted avg       0.85      0.85      0.85       768\n",
      "\n",
      "SVM Report:\n",
      "                                precision    recall  f1-score   support\n",
      "\n",
      "healthy/screening stage cancer       0.75      0.66      0.70       193\n",
      "            early stage cancer       0.68      0.79      0.73       273\n",
      "              mid stage cancer       0.68      0.68      0.68       159\n",
      "             late stage cancer       0.93      0.78      0.85       143\n",
      "\n",
      "                      accuracy                           0.73       768\n",
      "                     macro avg       0.76      0.73      0.74       768\n",
      "                  weighted avg       0.74      0.73      0.74       768\n",
      "\n",
      "KNN Report:\n",
      "                                precision    recall  f1-score   support\n",
      "\n",
      "healthy/screening stage cancer       0.68      0.50      0.57       193\n",
      "            early stage cancer       0.58      0.80      0.67       273\n",
      "              mid stage cancer       0.65      0.58      0.62       159\n",
      "             late stage cancer       0.96      0.73      0.83       143\n",
      "\n",
      "                      accuracy                           0.67       768\n",
      "                     macro avg       0.72      0.65      0.67       768\n",
      "                  weighted avg       0.69      0.67      0.67       768\n",
      "\n",
      "Top 175 features\n",
      "Decision Tree Report:\n",
      "                                precision    recall  f1-score   support\n",
      "\n",
      "healthy/screening stage cancer       0.82      0.85      0.84       193\n",
      "            early stage cancer       0.81      0.83      0.82       273\n",
      "              mid stage cancer       0.74      0.73      0.74       159\n",
      "             late stage cancer       0.89      0.83      0.86       143\n",
      "\n",
      "                      accuracy                           0.82       768\n",
      "                     macro avg       0.82      0.81      0.81       768\n",
      "                  weighted avg       0.82      0.82      0.82       768\n",
      "\n",
      "Random Forest Report:\n",
      "                                precision    recall  f1-score   support\n",
      "\n",
      "healthy/screening stage cancer       0.88      0.91      0.89       193\n",
      "            early stage cancer       0.85      0.88      0.86       273\n",
      "              mid stage cancer       0.81      0.79      0.80       159\n",
      "             late stage cancer       0.94      0.87      0.91       143\n",
      "\n",
      "                      accuracy                           0.87       768\n",
      "                     macro avg       0.87      0.86      0.87       768\n",
      "                  weighted avg       0.87      0.87      0.87       768\n",
      "\n",
      "XGBoost Report:\n",
      "                                precision    recall  f1-score   support\n",
      "\n",
      "healthy/screening stage cancer       0.88      0.88      0.88       193\n",
      "            early stage cancer       0.83      0.89      0.86       273\n",
      "              mid stage cancer       0.78      0.79      0.78       159\n",
      "             late stage cancer       0.94      0.82      0.88       143\n",
      "\n",
      "                      accuracy                           0.85       768\n",
      "                     macro avg       0.86      0.84      0.85       768\n",
      "                  weighted avg       0.85      0.85      0.85       768\n",
      "\n",
      "SVM Report:\n",
      "                                precision    recall  f1-score   support\n",
      "\n",
      "healthy/screening stage cancer       0.75      0.65      0.69       193\n",
      "            early stage cancer       0.67      0.80      0.73       273\n",
      "              mid stage cancer       0.68      0.67      0.68       159\n",
      "             late stage cancer       0.93      0.78      0.84       143\n",
      "\n",
      "                      accuracy                           0.73       768\n",
      "                     macro avg       0.76      0.72      0.74       768\n",
      "                  weighted avg       0.74      0.73      0.73       768\n",
      "\n",
      "KNN Report:\n",
      "                                precision    recall  f1-score   support\n",
      "\n",
      "healthy/screening stage cancer       0.68      0.50      0.58       193\n",
      "            early stage cancer       0.58      0.80      0.67       273\n",
      "              mid stage cancer       0.65      0.57      0.61       159\n",
      "             late stage cancer       0.97      0.72      0.83       143\n",
      "\n",
      "                      accuracy                           0.66       768\n",
      "                     macro avg       0.72      0.65      0.67       768\n",
      "                  weighted avg       0.69      0.66      0.66       768\n",
      "\n",
      "Top 225 features\n",
      "Decision Tree Report:\n",
      "                                precision    recall  f1-score   support\n",
      "\n",
      "healthy/screening stage cancer       0.82      0.82      0.82       193\n",
      "            early stage cancer       0.81      0.86      0.83       273\n",
      "              mid stage cancer       0.80      0.73      0.76       159\n",
      "             late stage cancer       0.89      0.88      0.88       143\n",
      "\n",
      "                      accuracy                           0.83       768\n",
      "                     macro avg       0.83      0.82      0.83       768\n",
      "                  weighted avg       0.83      0.83      0.83       768\n",
      "\n",
      "Random Forest Report:\n",
      "                                precision    recall  f1-score   support\n",
      "\n",
      "healthy/screening stage cancer       0.87      0.91      0.89       193\n",
      "            early stage cancer       0.87      0.87      0.87       273\n",
      "              mid stage cancer       0.82      0.82      0.82       159\n",
      "             late stage cancer       0.94      0.87      0.90       143\n",
      "\n",
      "                      accuracy                           0.87       768\n",
      "                     macro avg       0.87      0.87      0.87       768\n",
      "                  weighted avg       0.87      0.87      0.87       768\n",
      "\n",
      "XGBoost Report:\n",
      "                                precision    recall  f1-score   support\n",
      "\n",
      "healthy/screening stage cancer       0.88      0.87      0.87       193\n",
      "            early stage cancer       0.83      0.88      0.85       273\n",
      "              mid stage cancer       0.79      0.79      0.79       159\n",
      "             late stage cancer       0.94      0.83      0.88       143\n",
      "\n",
      "                      accuracy                           0.85       768\n",
      "                     macro avg       0.86      0.84      0.85       768\n",
      "                  weighted avg       0.85      0.85      0.85       768\n",
      "\n",
      "SVM Report:\n",
      "                                precision    recall  f1-score   support\n",
      "\n",
      "healthy/screening stage cancer       0.75      0.63      0.68       193\n",
      "            early stage cancer       0.67      0.81      0.73       273\n",
      "              mid stage cancer       0.68      0.68      0.68       159\n",
      "             late stage cancer       0.93      0.78      0.85       143\n",
      "\n",
      "                      accuracy                           0.73       768\n",
      "                     macro avg       0.76      0.72      0.74       768\n",
      "                  weighted avg       0.74      0.73      0.73       768\n",
      "\n",
      "KNN Report:\n",
      "                                precision    recall  f1-score   support\n",
      "\n",
      "healthy/screening stage cancer       0.67      0.50      0.57       193\n",
      "            early stage cancer       0.56      0.79      0.66       273\n",
      "              mid stage cancer       0.64      0.52      0.58       159\n",
      "             late stage cancer       0.96      0.72      0.82       143\n",
      "\n",
      "                      accuracy                           0.65       768\n",
      "                     macro avg       0.71      0.63      0.66       768\n",
      "                  weighted avg       0.68      0.65      0.65       768\n",
      "\n",
      "Top 275 features\n",
      "Decision Tree Report:\n",
      "                                precision    recall  f1-score   support\n",
      "\n",
      "healthy/screening stage cancer       0.83      0.80      0.82       193\n",
      "            early stage cancer       0.78      0.86      0.82       273\n",
      "              mid stage cancer       0.75      0.68      0.71       159\n",
      "             late stage cancer       0.89      0.87      0.88       143\n",
      "\n",
      "                      accuracy                           0.81       768\n",
      "                     macro avg       0.81      0.80      0.81       768\n",
      "                  weighted avg       0.81      0.81      0.81       768\n",
      "\n",
      "Random Forest Report:\n",
      "                                precision    recall  f1-score   support\n",
      "\n",
      "healthy/screening stage cancer       0.88      0.91      0.89       193\n",
      "            early stage cancer       0.87      0.88      0.87       273\n",
      "              mid stage cancer       0.82      0.82      0.82       159\n",
      "             late stage cancer       0.94      0.87      0.90       143\n",
      "\n",
      "                      accuracy                           0.87       768\n",
      "                     macro avg       0.88      0.87      0.87       768\n",
      "                  weighted avg       0.87      0.87      0.87       768\n",
      "\n",
      "XGBoost Report:\n",
      "                                precision    recall  f1-score   support\n",
      "\n",
      "healthy/screening stage cancer       0.88      0.85      0.87       193\n",
      "            early stage cancer       0.82      0.88      0.85       273\n",
      "              mid stage cancer       0.77      0.78      0.77       159\n",
      "             late stage cancer       0.94      0.81      0.87       143\n",
      "\n",
      "                      accuracy                           0.84       768\n",
      "                     macro avg       0.85      0.83      0.84       768\n",
      "                  weighted avg       0.84      0.84      0.84       768\n",
      "\n",
      "SVM Report:\n",
      "                                precision    recall  f1-score   support\n",
      "\n",
      "healthy/screening stage cancer       0.75      0.62      0.68       193\n",
      "            early stage cancer       0.67      0.82      0.73       273\n",
      "              mid stage cancer       0.69      0.69      0.69       159\n",
      "             late stage cancer       0.94      0.78      0.85       143\n",
      "\n",
      "                      accuracy                           0.73       768\n",
      "                     macro avg       0.76      0.73      0.74       768\n",
      "                  weighted avg       0.75      0.73      0.73       768\n",
      "\n",
      "KNN Report:\n",
      "                                precision    recall  f1-score   support\n",
      "\n",
      "healthy/screening stage cancer       0.65      0.49      0.56       193\n",
      "            early stage cancer       0.56      0.78      0.65       273\n",
      "              mid stage cancer       0.63      0.51      0.56       159\n",
      "             late stage cancer       0.95      0.72      0.82       143\n",
      "\n",
      "                      accuracy                           0.64       768\n",
      "                     macro avg       0.70      0.63      0.65       768\n",
      "                  weighted avg       0.67      0.64      0.64       768\n",
      "\n",
      "Top 350 features\n",
      "Decision Tree Report:\n",
      "                                precision    recall  f1-score   support\n",
      "\n",
      "healthy/screening stage cancer       0.83      0.82      0.83       193\n",
      "            early stage cancer       0.79      0.84      0.82       273\n",
      "              mid stage cancer       0.77      0.70      0.73       159\n",
      "             late stage cancer       0.89      0.89      0.89       143\n",
      "\n",
      "                      accuracy                           0.82       768\n",
      "                     macro avg       0.82      0.81      0.82       768\n",
      "                  weighted avg       0.81      0.82      0.81       768\n",
      "\n",
      "Random Forest Report:\n",
      "                                precision    recall  f1-score   support\n",
      "\n",
      "healthy/screening stage cancer       0.88      0.91      0.89       193\n",
      "            early stage cancer       0.87      0.89      0.88       273\n",
      "              mid stage cancer       0.81      0.82      0.82       159\n",
      "             late stage cancer       0.94      0.84      0.89       143\n",
      "\n",
      "                      accuracy                           0.87       768\n",
      "                     macro avg       0.87      0.86      0.87       768\n",
      "                  weighted avg       0.87      0.87      0.87       768\n",
      "\n",
      "XGBoost Report:\n",
      "                                precision    recall  f1-score   support\n",
      "\n",
      "healthy/screening stage cancer       0.88      0.88      0.88       193\n",
      "            early stage cancer       0.83      0.89      0.86       273\n",
      "              mid stage cancer       0.79      0.79      0.79       159\n",
      "             late stage cancer       0.94      0.82      0.87       143\n",
      "\n",
      "                      accuracy                           0.85       768\n",
      "                     macro avg       0.86      0.84      0.85       768\n",
      "                  weighted avg       0.85      0.85      0.85       768\n",
      "\n",
      "SVM Report:\n",
      "                                precision    recall  f1-score   support\n",
      "\n",
      "healthy/screening stage cancer       0.74      0.59      0.66       193\n",
      "            early stage cancer       0.65      0.81      0.72       273\n",
      "              mid stage cancer       0.68      0.67      0.68       159\n",
      "             late stage cancer       0.93      0.78      0.85       143\n",
      "\n",
      "                      accuracy                           0.72       768\n",
      "                     macro avg       0.75      0.71      0.72       768\n",
      "                  weighted avg       0.73      0.72      0.72       768\n",
      "\n",
      "KNN Report:\n",
      "                                precision    recall  f1-score   support\n",
      "\n",
      "healthy/screening stage cancer       0.63      0.49      0.55       193\n",
      "            early stage cancer       0.55      0.78      0.65       273\n",
      "              mid stage cancer       0.64      0.49      0.56       159\n",
      "             late stage cancer       0.95      0.73      0.83       143\n",
      "\n",
      "                      accuracy                           0.64       768\n",
      "                     macro avg       0.69      0.62      0.64       768\n",
      "                  weighted avg       0.66      0.64      0.64       768\n",
      "\n"
     ]
    }
   ],
   "source": [
    "# code cell runs for abt 9 - 15 min \n",
    "d={}\n",
    "no_of_features = [90,100,125,150,175,225,275,350]\n",
    "for i in no_of_features: \n",
    "    print(f\"Top {i} features\")\n",
    "    best_cols = forest_features[:i]\n",
    "    l = model_trainer(df,dft,best_cols) \n",
    "    a = list(map(lambda x:x.strip().split('\\n'),l))\n",
    "    k = ['Decision Tree','Random Forest','XGBoost','SVM','KNN']\n",
    "    for n,e in enumerate(a):\n",
    "        key = f\"{i} - {(k[n])}\"\n",
    "        z=[float(i[-1]) for i in list(map(lambda x:re.findall(\"\\d\\.\\d\\d\",x),e)) if len(i)>0]\n",
    "        d[key] = z\n",
    "# Already apparent out of the gate that Decision Tree, Random Forest \n",
    "# and XGBoost Models perform significantly better than SVM & KNN models"
   ]
  },
  {
   "cell_type": "code",
   "execution_count": 17,
   "metadata": {},
   "outputs": [],
   "source": [
    "features = sorted(set(map(lambda x:int(x.split('-')[0].strip()),d.keys())))\n",
    "models = list(map(lambda x:(x.split('-')[-1].strip()),d.keys()))[:5]\n",
    "data=[]\n",
    "for e in features:\n",
    "    li=[e]\n",
    "    for m in models:\n",
    "        li.append(sum(d[f\"{e} - {m}\"][:4])/4) \n",
    "    data.append(li) \n",
    "# average f1 score (last 3 f1 metrics) of different ML models with different \n",
    "# number of features is calculated and displayed in bar graph below"
   ]
  },
  {
   "cell_type": "code",
   "execution_count": 18,
   "metadata": {},
   "outputs": [
    {
     "data": {
      "image/png": "[encoded data removed]",
      "text/plain": [
       "<Figure size 640x480 with 1 Axes>"
      ]
     },
     "metadata": {},
     "output_type": "display_data"
    }
   ],
   "source": [
    "tf = pd.DataFrame(data, columns=['Features']+models)\n",
    "tf.plot(x='Features', \n",
    "        kind='bar', \n",
    "        stacked=False, \n",
    "        title='Average F1 Score')\n",
    "plt.ylim(bottom=0.6,top=0.9)\n",
    "plt.show() # significantly apparent that Decision Tree, Random Forest \n",
    "# and XGBoost (Extreme Gradient Boost) classifiers perform better han SVM and KNN \n",
    "# >> will remove the latter 2 instances and focus on the former 3"
   ]
  },
  {
   "cell_type": "code",
   "execution_count": 19,
   "metadata": {},
   "outputs": [
    {
     "data": {
      "image/png": "[encoded data removed]",
      "text/plain": [
       "<Figure size 640x480 with 1 Axes>"
      ]
     },
     "metadata": {},
     "output_type": "display_data"
    }
   ],
   "source": [
    "tf.plot(x='Features', \n",
    "        kind='bar', \n",
    "        stacked=False, \n",
    "        title='Average F1 Score')\n",
    "plt.ylim(bottom=0.8,top=0.9)\n",
    "plt.show()\n",
    "# clear that amongst all the models, Random Forest (RF) performs the best; \n",
    "# also apparent that at 225 features, average f1 score for RF begins to plateau \n",
    "# with still relatively greater than average results for f1 scores for XGBoost and\n",
    "# Decision Tree Models at top 225 features >> good balance between performance and number of features "
   ]
  },
  {
   "cell_type": "code",
   "execution_count": 20,
   "metadata": {},
   "outputs": [],
   "source": [
    "best_cols = forest_features[:225] # looking at the top 225 best ranked features\n",
    "# owing to earliest peak in average f1 score for Random Forest; alongside optimal performance \n",
    "# in both Decision Tree and Random Forest results for f1 score"
   ]
  },
  {
   "cell_type": "markdown",
   "metadata": {},
   "source": [
    "## 3. Hyperparameter Tuning and Model Evaluation"
   ]
  },
  {
   "cell_type": "code",
   "execution_count": 34,
   "metadata": {},
   "outputs": [],
   "source": [
    "reverse_lis = [k for k,_ in sorted(dic.items(),key=lambda x:x[-1])]\n",
    "reverse_lis = [reverse_lis[0]+'/'+reverse_lis[1]]+reverse_lis[2:]"
   ]
  },
  {
   "cell_type": "code",
   "execution_count": 50,
   "metadata": {},
   "outputs": [],
   "source": [
    "# as from https://scikit-learn.org/stable/modules/generated/sklearn.ensemble.RandomForestClassifier.html\n",
    "params = {'bootstrap': [True, False],\n",
    " 'max_depth': [10, 20, 50, 75, 100, 150, None],\n",
    " 'max_leaf_nodes':[2,3,5,10,None],\n",
    " 'min_samples_split': [2,3,5],\n",
    " 'criterion':['gini','entropy'],\n",
    " 'n_estimators': [50, 75, 100, 200, 500]}\n",
    "rf_random = RandomizedSearchCV(estimator = RandomForestClassifier(random_state=r_state,class_weight='balanced'), param_distributions= params, \n",
    "                               n_iter=10,cv = StratifiedKFold(n_splits=5,random_state=r_state,shuffle=True))\n",
    "# random search CV used to narrow down to certain parameters"
   ]
  },
  {
   "cell_type": "markdown",
   "metadata": {},
   "source": [
    "For the first run of hyperparamter tuning, 5 iterations of RandomizedSearchCV are implemented owing to the large number of parameters used - hence, to have a relatively quick run of the different paramteres while being able to compare and contrast most of them in terms of their similarities in a majority class (e.g. how most runs give `bootstrap = False`/ `max_leaf_nodes = None`), some of the paramters can be fixed/ have a narrowed down range to be evaluated completely using GridSearchCV"
   ]
  },
  {
   "cell_type": "code",
   "execution_count": 35,
   "metadata": {},
   "outputs": [
    {
     "name": "stdout",
     "output_type": "stream",
     "text": [
      "{'n_estimators': 200, 'min_samples_split': 5, 'max_leaf_nodes': None, 'max_depth': 50, 'criterion': 'entropy', 'bootstrap': False}\n",
      "{'n_estimators': 100, 'min_samples_split': 5, 'max_leaf_nodes': None, 'max_depth': 10, 'criterion': 'entropy', 'bootstrap': False}\n",
      "{'n_estimators': 200, 'min_samples_split': 2, 'max_leaf_nodes': None, 'max_depth': None, 'criterion': 'gini', 'bootstrap': False}\n",
      "{'n_estimators': 200, 'min_samples_split': 2, 'max_leaf_nodes': None, 'max_depth': 75, 'criterion': 'gini', 'bootstrap': False}\n",
      "{'n_estimators': 100, 'min_samples_split': 2, 'max_leaf_nodes': None, 'max_depth': 50, 'criterion': 'entropy', 'bootstrap': False}\n"
     ]
    }
   ],
   "source": [
    "# takes up to half an hour to run this code cell >> code is placed in multi-line string \n",
    "'''\n",
    "for e in range(5): # run 5 times to observe similarities and differences in outputs of random CV 5 times\n",
    "    rf_random.fit(df[best_cols],df[target]) \n",
    "    print(rf_random.best_params_) \n",
    "'''\n",
    "# may remove the string quotes to run the code; do take note on the time required\n",
    "\n",
    "### Observed Output ###\n",
    "# {'n_estimators': 200, 'min_samples_split': 5, 'max_leaf_nodes': None, 'max_depth': 50, 'criterion': 'entropy', 'bootstrap': False}\n",
    "# {'n_estimators': 100, 'min_samples_split': 5, 'max_leaf_nodes': None, 'max_depth': 10, 'criterion': 'entropy', 'bootstrap': False}\n",
    "# {'n_estimators': 200, 'min_samples_split': 2, 'max_leaf_nodes': None, 'max_depth': None, 'criterion': 'gini', 'bootstrap': False}\n",
    "# {'n_estimators': 200, 'min_samples_split': 2, 'max_leaf_nodes': None, 'max_depth': 75, 'criterion': 'gini', 'bootstrap': False}\n",
    "# {'n_estimators': 100, 'min_samples_split': 2, 'max_leaf_nodes': None, 'max_depth': 50, 'criterion': 'entropy', 'bootstrap': False}"
   ]
  },
  {
   "cell_type": "code",
   "execution_count": 37,
   "metadata": {},
   "outputs": [],
   "source": [
    "refined_params = {'bootstrap': [False],\n",
    " 'max_depth': [50, 75, 100, None],\n",
    " 'max_leaf_nodes':[None],\n",
    " 'min_samples_split': [2,3,5],\n",
    " 'criterion':['gini','entropy'],\n",
    " 'n_estimators': [100, 150, 200]}\n",
    "rf_grid = GridSearchCV(estimator = RandomForestClassifier(random_state=r_state,class_weight='balanced'), param_grid= refined_params, \n",
    "                        cv = StratifiedKFold(n_splits=5,random_state=r_state,shuffle=True))\n",
    "# Grid Search CV is used to evaluate ALL narrowed down parameters to give optimised result"
   ]
  },
  {
   "cell_type": "markdown",
   "metadata": {},
   "source": [
    "With RandomizedSearchCV helping to hone in on the parameters to be optimised, Cross Validation (CV) is carries out again, this time using GridSearchCV, to guarantee the optimal paramters are obtained. However, owing to the long time GridSearchCV takes as it copares all permutations of paramters, it was **NOT** used at the start in order to save time on running the code file"
   ]
  },
  {
   "cell_type": "code",
   "execution_count": 38,
   "metadata": {},
   "outputs": [
    {
     "name": "stdout",
     "output_type": "stream",
     "text": [
      "{'bootstrap': False, 'criterion': 'entropy', 'max_depth': 50, 'max_leaf_nodes': None, 'min_samples_split': 2, 'n_estimators': 100}\n"
     ]
    }
   ],
   "source": [
    "# takes about 1 hour to run this code cell >> code is placed in multi-line string \n",
    "'''\n",
    "rf_grid.fit(df[best_cols],df[target]) \n",
    "print(rf_grid.best_params_)\n",
    "''' \n",
    "# may remove the string quotes to run the code; do take note on the time required\n",
    "\n",
    "### Observed Output ###\n",
    "# {'bootstrap': False, 'criterion': 'entropy', 'max_depth': 50, 'max_leaf_nodes': None, 'min_samples_split': 2, 'n_estimators': 100}"
   ]
  },
  {
   "cell_type": "code",
   "execution_count": 39,
   "metadata": {},
   "outputs": [
    {
     "name": "stdout",
     "output_type": "stream",
     "text": [
      "                                precision    recall  f1-score   support\n",
      "\n",
      "healthy/screening stage cancer       0.88      0.93      0.90       193\n",
      "            early stage cancer       0.89      0.89      0.89       273\n",
      "              mid stage cancer       0.83      0.82      0.83       159\n",
      "             late stage cancer       0.93      0.87      0.90       143\n",
      "\n",
      "                      accuracy                           0.88       768\n",
      "                     macro avg       0.88      0.88      0.88       768\n",
      "                  weighted avg       0.88      0.88      0.88       768\n",
      "\n"
     ]
    }
   ],
   "source": [
    "rf_h = RandomForestClassifier(random_state=r_state,max_depth =50,max_leaf_nodes=None,min_samples_split=2,n_estimators=100,class_weight='balanced',criterion='entropy',bootstrap=False)\n",
    "rf_h.fit(df[best_cols],df[target]) \n",
    "y_pred = rf_h.predict(dft[best_cols])\n",
    "print(classification_report(dft[target],y_pred,target_names = reverse_lis)) \n",
    "# hyperparameter model performs marginally better to original model >> better f1 performance"
   ]
  },
  {
   "cell_type": "code",
   "execution_count": 40,
   "metadata": {},
   "outputs": [],
   "source": [
    "val_df[X_features] = scaler.transform(val_df[X_features])"
   ]
  },
  {
   "cell_type": "code",
   "execution_count": 41,
   "metadata": {},
   "outputs": [
    {
     "name": "stdout",
     "output_type": "stream",
     "text": [
      "                                precision    recall  f1-score   support\n",
      "\n",
      "healthy/screening stage cancer       0.74      0.53      0.62       271\n",
      "            early stage cancer       0.62      0.72      0.67       368\n",
      "              mid stage cancer       0.61      0.72      0.66       206\n",
      "             late stage cancer       0.88      0.78      0.82       189\n",
      "\n",
      "                      accuracy                           0.68      1034\n",
      "                     macro avg       0.71      0.69      0.69      1034\n",
      "                  weighted avg       0.70      0.68      0.68      1034\n",
      "\n"
     ]
    }
   ],
   "source": [
    "model_clf = RandomForestClassifier(random_state=r_state,class_weight='balanced') \n",
    "# initial model with no change to parameters\n",
    "model_clf.fit(df[best_cols],df[target])\n",
    "model_pred = model_clf.predict(val_df[best_cols]) \n",
    "print(classification_report(val_df[target],model_pred,target_names = reverse_lis))"
   ]
  },
  {
   "cell_type": "code",
   "execution_count": 42,
   "metadata": {},
   "outputs": [
    {
     "name": "stdout",
     "output_type": "stream",
     "text": [
      "                                precision    recall  f1-score   support\n",
      "\n",
      "healthy/screening stage cancer       0.77      0.59      0.67       271\n",
      "            early stage cancer       0.66      0.74      0.69       368\n",
      "              mid stage cancer       0.62      0.75      0.68       206\n",
      "             late stage cancer       0.89      0.77      0.83       189\n",
      "\n",
      "                      accuracy                           0.71      1034\n",
      "                     macro avg       0.74      0.71      0.72      1034\n",
      "                  weighted avg       0.72      0.71      0.71      1034\n",
      "\n"
     ]
    }
   ],
   "source": [
    "print(classification_report(val_df[target],rf_h.predict(val_df[best_cols]),target_names = reverse_lis))\n",
    "# hyperparametised model performs BETTER on test set \n",
    "# than base/default model with no change to parameters"
   ]
  },
  {
   "cell_type": "code",
   "execution_count": 43,
   "metadata": {},
   "outputs": [],
   "source": [
    "dff = pd.concat([df,dft]) # using ENTIRE training dataset (whole of train_set.csv)"
   ]
  },
  {
   "cell_type": "code",
   "execution_count": 44,
   "metadata": {},
   "outputs": [],
   "source": [
    "dff[X_features] = scaler.fit_transform(dff[X_features])\n",
    "val_df[X_features] = scaler.transform(val_df[X_features])"
   ]
  },
  {
   "cell_type": "code",
   "execution_count": 45,
   "metadata": {},
   "outputs": [
    {
     "name": "stdout",
     "output_type": "stream",
     "text": [
      "                                precision    recall  f1-score   support\n",
      "\n",
      "healthy/screening stage cancer       0.76      0.58      0.66       271\n",
      "            early stage cancer       0.64      0.70      0.67       368\n",
      "              mid stage cancer       0.59      0.70      0.64       206\n",
      "             late stage cancer       0.83      0.79      0.81       189\n",
      "\n",
      "                      accuracy                           0.69      1034\n",
      "                     macro avg       0.71      0.69      0.69      1034\n",
      "                  weighted avg       0.70      0.69      0.69      1034\n",
      "\n"
     ]
    }
   ],
   "source": [
    "rf_clf = RandomForestClassifier(random_state=r_state,max_depth =50,max_leaf_nodes=None,min_samples_split=2,n_estimators=100,class_weight='balanced',criterion='entropy',bootstrap=False)\n",
    "rf_clf.fit(dff[best_cols],dff[target])\n",
    "p = rf_clf.predict(val_df[best_cols])\n",
    "print(classification_report(val_df[target],p,target_names = reverse_lis))\n",
    "# using full train dataset gives lower performance for f1-score across different categories compared "
   ]
  },
  {
   "cell_type": "code",
   "execution_count": 48,
   "metadata": {},
   "outputs": [],
   "source": [
    "# final model >> hyperparameterised model fit on PARTIAL train dataset (80% split of train_data.csv)\n",
    "final_model = rf_h"
   ]
  },
  {
   "cell_type": "markdown",
   "metadata": {},
   "source": [
    "## 4. Saving the final model"
   ]
  },
  {
   "cell_type": "code",
   "execution_count": 49,
   "metadata": {},
   "outputs": [],
   "source": [
    "with open('CancerStagersModel.pkl','wb') as f:\n",
    "    pickle.dump(final_model,f) "
   ]
  }
 ],
 "metadata": {
  "kernelspec": {
   "display_name": "Python 3",
   "language": "python",
   "name": "python3"
  },
  "language_info": {
   "codemirror_mode": {
    "name": "ipython",
    "version": 3
   },
   "file_extension": ".py",
   "mimetype": "text/x-python",
   "name": "python",
   "nbconvert_exporter": "python",
   "pygments_lexer": "ipython3",
   "version": "3.11.4"
  }
 },
 "nbformat": 4,
 "nbformat_minor": 2
}
