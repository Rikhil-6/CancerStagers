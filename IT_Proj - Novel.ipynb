{
 "cells": [
  {
   "cell_type": "code",
   "execution_count": 301,
   "metadata": {},
   "outputs": [],
   "source": [
    "import pickle\n",
    "import pandas as pd"
   ]
  },
  {
   "cell_type": "code",
   "execution_count": 302,
   "metadata": {},
   "outputs": [],
   "source": [
    "with open(r\".\\CancerStagersModel.pkl\",'rb') as f:\n",
    "    model = pickle.load(f) # load the saved model"
   ]
  },
  {
   "cell_type": "code",
   "execution_count": 303,
   "metadata": {},
   "outputs": [],
   "source": [
    "def df_test(dataframe: pd.DataFrame): # takes in a pandas dataframe \n",
    "    if all(x in dataframe.columns for x in model.feature_names_in_)==False:\n",
    "        raise Exception(f\"\"\"Missing Mandatory Columns Detected. \n",
    "Please ensure your dataframe has the required columns:\\n\\n{list(model.feature_names_in_)}\"\"\")\n",
    "    # checks that the mandatory columns are present in the dataframe\n",
    "    elif (any(dataframe[model.feature_names_in_].isna().sum()>0)): \n",
    "        # checks if any of the mandatory columns (as found in model.feature_names_in_) has a missing value\n",
    "        missing_cols = (list((dataframe[model.feature_names_in_].isna().sum()>0).index))\n",
    "        raise Exception(f\"Missing Data Detected in Columns {missing_cols}\")\n",
    "\n",
    "    else:\n",
    "        # if above checks are fulfilled\n",
    "        y_pred = model.predict(dataframe[model.feature_names_in_])\n",
    "        dic = {\"healthy\":1,\"screening stage cancer\":1,\"early stage cancer\":2,\"mid stage cancer\":3,\"late stage cancer\":4}\n",
    "        reverse_lis = [k for k,_ in sorted(dic.items(),key=lambda x:x[-1])]\n",
    "        reverse_lis = [reverse_lis[0]+'/'+reverse_lis[1]]+reverse_lis[2:]\n",
    "        r_dic = {(k+1):v for k,v in enumerate(reverse_lis)}\n",
    "        target = 'class_label'\n",
    "        if target in dataframe.columns: \n",
    "        # if there is an actual class_label column present, can compare actual data with predicted data\n",
    "            arr = dataframe[target].map(dic) # places both healthy and screening stage cancer in the same class\n",
    "            df = pd.DataFrame({\"Actual\":dataframe[target].values,\n",
    "                    \"Modified Actual\":arr.values,\n",
    "                    \"Predicted\":y_pred})\n",
    "            for e in df.columns[1:]:\n",
    "                df[e]=df[e].map(r_dic) \n",
    "                # numeric labels (1,2,3,4) converted to meaningful information\n",
    "                # (healthy/screening stage , early stage, mid stage, late stage)\n",
    "            df['Match']=df['Modified Actual']==df['Predicted']\n",
    "            print(df['Match'].sum()) \n",
    "            # prints the number of matches between predicted results and modified actual results\n",
    "            print(df['Match'].sum()/df['Match'].__len__()*100)\n",
    "            # expresses the above number as a percentage of total number of results\n",
    "            print(df)\n",
    "            # displays the information\n",
    "        y_pred = pd.Series(list(map(lambda x:r_dic[x],y_pred)))\n",
    "        y_pred.name = 'Predicted'\n",
    "        return y_pred"
   ]
  },
  {
   "cell_type": "code",
   "execution_count": 304,
   "metadata": {},
   "outputs": [],
   "source": [
    "test_path = r\".\\NUS_IT\\Test_Set.csv\" # default test path; can change to other csv files of a similar format\n",
    "df = pd.read_csv(test_path)\n",
    "df_sample = df.sample(30)"
   ]
  },
  {
   "cell_type": "code",
   "execution_count": 305,
   "metadata": {},
   "outputs": [
    {
     "name": "stdout",
     "output_type": "stream",
     "text": [
      "25\n",
      "83.33333333333334\n",
      "                    Actual                 Modified Actual                       Predicted  Match\n",
      "0       early stage cancer              early stage cancer              early stage cancer   True\n",
      "1       early stage cancer              early stage cancer              early stage cancer   True\n",
      "2       early stage cancer              early stage cancer              early stage cancer   True\n",
      "3       early stage cancer              early stage cancer              early stage cancer   True\n",
      "4   screening stage cancer  healthy/screening stage cancer  healthy/screening stage cancer   True\n",
      "5                  healthy  healthy/screening stage cancer              early stage cancer  False\n",
      "6        late stage cancer               late stage cancer               late stage cancer   True\n",
      "7       early stage cancer              early stage cancer                mid stage cancer  False\n",
      "8       early stage cancer              early stage cancer              early stage cancer   True\n",
      "9   screening stage cancer  healthy/screening stage cancer  healthy/screening stage cancer   True\n",
      "10      early stage cancer              early stage cancer                mid stage cancer  False\n",
      "11      early stage cancer              early stage cancer              early stage cancer   True\n",
      "12       late stage cancer               late stage cancer               late stage cancer   True\n",
      "13      early stage cancer              early stage cancer              early stage cancer   True\n",
      "14        mid stage cancer                mid stage cancer                mid stage cancer   True\n",
      "15  screening stage cancer  healthy/screening stage cancer  healthy/screening stage cancer   True\n",
      "16  screening stage cancer  healthy/screening stage cancer  healthy/screening stage cancer   True\n",
      "17        mid stage cancer                mid stage cancer                mid stage cancer   True\n",
      "18       late stage cancer               late stage cancer               late stage cancer   True\n",
      "19        mid stage cancer                mid stage cancer                mid stage cancer   True\n",
      "20        mid stage cancer                mid stage cancer                mid stage cancer   True\n",
      "21       late stage cancer               late stage cancer               late stage cancer   True\n",
      "22  screening stage cancer  healthy/screening stage cancer              early stage cancer  False\n",
      "23        mid stage cancer                mid stage cancer                mid stage cancer   True\n",
      "24                 healthy  healthy/screening stage cancer  healthy/screening stage cancer   True\n",
      "25      early stage cancer              early stage cancer                mid stage cancer  False\n",
      "26        mid stage cancer                mid stage cancer                mid stage cancer   True\n",
      "27  screening stage cancer  healthy/screening stage cancer  healthy/screening stage cancer   True\n",
      "28      early stage cancer              early stage cancer              early stage cancer   True\n",
      "29      early stage cancer              early stage cancer              early stage cancer   True\n"
     ]
    }
   ],
   "source": [
    "pd.set_option('expand_frame_repr', False)\n",
    "pred=df_test(df_sample)"
   ]
  },
  {
   "cell_type": "code",
   "execution_count": 306,
   "metadata": {},
   "outputs": [
    {
     "name": "stdout",
     "output_type": "stream",
     "text": [
      "0                 early stage cancer\n",
      "1                 early stage cancer\n",
      "2                 early stage cancer\n",
      "3                 early stage cancer\n",
      "4     healthy/screening stage cancer\n",
      "5                 early stage cancer\n",
      "6                  late stage cancer\n",
      "7                   mid stage cancer\n",
      "8                 early stage cancer\n",
      "9     healthy/screening stage cancer\n",
      "10                  mid stage cancer\n",
      "11                early stage cancer\n",
      "12                 late stage cancer\n",
      "13                early stage cancer\n",
      "14                  mid stage cancer\n",
      "15    healthy/screening stage cancer\n",
      "16    healthy/screening stage cancer\n",
      "17                  mid stage cancer\n",
      "18                 late stage cancer\n",
      "19                  mid stage cancer\n",
      "20                  mid stage cancer\n",
      "21                 late stage cancer\n",
      "22                early stage cancer\n",
      "23                  mid stage cancer\n",
      "24    healthy/screening stage cancer\n",
      "25                  mid stage cancer\n",
      "26                  mid stage cancer\n",
      "27    healthy/screening stage cancer\n",
      "28                early stage cancer\n",
      "29                early stage cancer\n",
      "Name: Predicted, dtype: object\n"
     ]
    }
   ],
   "source": [
    "print(pred)"
   ]
  }
 ],
 "metadata": {
  "kernelspec": {
   "display_name": "Python 3",
   "language": "python",
   "name": "python3"
  },
  "language_info": {
   "codemirror_mode": {
    "name": "ipython",
    "version": 3
   },
   "file_extension": ".py",
   "mimetype": "text/x-python",
   "name": "python",
   "nbconvert_exporter": "python",
   "pygments_lexer": "ipython3",
   "version": "3.11.4"
  }
 },
 "nbformat": 4,
 "nbformat_minor": 2
}
