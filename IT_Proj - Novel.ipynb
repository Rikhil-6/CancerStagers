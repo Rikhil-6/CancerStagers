{
 "cells": [
  {
   "cell_type": "code",
   "execution_count": 86,
   "metadata": {},
   "outputs": [],
   "source": [
    "import pickle\n",
    "import pandas as pd\n",
    "from sklearn.metrics import classification_report"
   ]
  },
  {
   "cell_type": "code",
   "execution_count": 87,
   "metadata": {},
   "outputs": [],
   "source": [
    "with open(r\".\\CancerStagersModel.pkl\",'rb') as f:\n",
    "    model = pickle.load(f) # load the saved model"
   ]
  },
  {
   "cell_type": "code",
   "execution_count": 88,
   "metadata": {},
   "outputs": [],
   "source": [
    "def df_test(dataframe: pd.DataFrame): # takes in a pandas dataframe \n",
    "    if all(x in dataframe.columns for x in model.feature_names_in_)==False:\n",
    "        raise Exception(f\"\"\"Missing Mandatory Columns Detected. \n",
    "Please ensure your dataframe has the required columns:\\n\\n{list(model.feature_names_in_)}\"\"\")\n",
    "    # checks that the mandatory columns are present in the dataframe\n",
    "    elif (any(dataframe[model.feature_names_in_].isna().sum()>0)): \n",
    "        # checks if any of the mandatory columns (as found in model.feature_names_in_) has a missing value\n",
    "        missing_cols = (list((dataframe[model.feature_names_in_].isna().sum()>0).index))\n",
    "        raise Exception(f\"Missing Data Detected in Columns {missing_cols}\")\n",
    "\n",
    "    else:\n",
    "        # if above checks are fulfilled\n",
    "        y_pred = model.predict(dataframe[model.feature_names_in_])\n",
    "        dic = {\"healthy\":1,\"screening stage cancer\":1,\"early stage cancer\":2,\"mid stage cancer\":3,\"late stage cancer\":4}\n",
    "        reverse_lis = [k for k,_ in sorted(dic.items(),key=lambda x:x[-1])]\n",
    "        reverse_lis = [reverse_lis[0]+'/'+reverse_lis[1]]+reverse_lis[2:]\n",
    "        r_dic = {(k+1):v for k,v in enumerate(reverse_lis)}\n",
    "        target = 'class_label'\n",
    "        df=None\n",
    "        if target in dataframe.columns: \n",
    "        # if there is an actual class_label column present, can compare actual data with predicted data\n",
    "            arr = dataframe[target].map(dic) # places both healthy and screening stage cancer in the same class\n",
    "            df = pd.DataFrame({\"Actual\":dataframe[target].values,\n",
    "                    \"Modified Actual\":arr.values,\n",
    "                    \"Predicted\":y_pred})\n",
    "            for e in df.columns[1:]:\n",
    "                df[e]=df[e].map(r_dic) \n",
    "                # numeric labels (1,2,3,4) converted to meaningful information\n",
    "                # (healthy/screening stage , early stage, mid stage, late stage)\n",
    "            df['Match']=df['Modified Actual']==df['Predicted']\n",
    "            print(df['Match'].sum()) \n",
    "            # prints the number of matches between predicted results and modified actual results\n",
    "            print(df['Match'].sum()/df['Match'].__len__()*100)\n",
    "            # expresses the above number as a percentage of total number of results (rough gauge of overall accuracy)\n",
    "            print(df)\n",
    "            # displays the information\n",
    "        y_pred = pd.Series(list(map(lambda x:r_dic[x],y_pred)))\n",
    "        y_pred.name = 'Predicted'\n",
    "        return [y_pred,df]"
   ]
  },
  {
   "cell_type": "code",
   "execution_count": 89,
   "metadata": {},
   "outputs": [],
   "source": [
    "test_path = r\".\\NUS_IT\\Test_Set.csv\" # default test path; can change to other csv files of a similar format\n",
    "df = pd.read_csv(test_path)\n",
    "df_sample = df.sample(50)"
   ]
  },
  {
   "cell_type": "code",
   "execution_count": 90,
   "metadata": {},
   "outputs": [
    {
     "name": "stdout",
     "output_type": "stream",
     "text": [
      "36\n",
      "72.0\n",
      "                    Actual                 Modified Actual                       Predicted  Match\n",
      "0                  healthy  healthy/screening stage cancer              early stage cancer  False\n",
      "1        late stage cancer               late stage cancer               late stage cancer   True\n",
      "2         mid stage cancer                mid stage cancer                mid stage cancer   True\n",
      "3       early stage cancer              early stage cancer                mid stage cancer  False\n",
      "4   screening stage cancer  healthy/screening stage cancer              early stage cancer  False\n",
      "5       early stage cancer              early stage cancer              early stage cancer   True\n",
      "6        late stage cancer               late stage cancer               late stage cancer   True\n",
      "7                  healthy  healthy/screening stage cancer  healthy/screening stage cancer   True\n",
      "8         mid stage cancer                mid stage cancer                mid stage cancer   True\n",
      "9       early stage cancer              early stage cancer              early stage cancer   True\n",
      "10      early stage cancer              early stage cancer  healthy/screening stage cancer  False\n",
      "11  screening stage cancer  healthy/screening stage cancer  healthy/screening stage cancer   True\n",
      "12       late stage cancer               late stage cancer               late stage cancer   True\n",
      "13                 healthy  healthy/screening stage cancer  healthy/screening stage cancer   True\n",
      "14  screening stage cancer  healthy/screening stage cancer  healthy/screening stage cancer   True\n",
      "15  screening stage cancer  healthy/screening stage cancer              early stage cancer  False\n",
      "16       late stage cancer               late stage cancer               late stage cancer   True\n",
      "17        mid stage cancer                mid stage cancer              early stage cancer  False\n",
      "18        mid stage cancer                mid stage cancer                mid stage cancer   True\n",
      "19      early stage cancer              early stage cancer              early stage cancer   True\n",
      "20  screening stage cancer  healthy/screening stage cancer  healthy/screening stage cancer   True\n",
      "21      early stage cancer              early stage cancer                mid stage cancer  False\n",
      "22        mid stage cancer                mid stage cancer                mid stage cancer   True\n",
      "23      early stage cancer              early stage cancer              early stage cancer   True\n",
      "24  screening stage cancer  healthy/screening stage cancer  healthy/screening stage cancer   True\n",
      "25      early stage cancer              early stage cancer              early stage cancer   True\n",
      "26       late stage cancer               late stage cancer               late stage cancer   True\n",
      "27       late stage cancer               late stage cancer                mid stage cancer  False\n",
      "28      early stage cancer              early stage cancer              early stage cancer   True\n",
      "29      early stage cancer              early stage cancer              early stage cancer   True\n",
      "30       late stage cancer               late stage cancer               late stage cancer   True\n",
      "31      early stage cancer              early stage cancer              early stage cancer   True\n",
      "32       late stage cancer               late stage cancer               late stage cancer   True\n",
      "33      early stage cancer              early stage cancer  healthy/screening stage cancer  False\n",
      "34  screening stage cancer  healthy/screening stage cancer              early stage cancer  False\n",
      "35      early stage cancer              early stage cancer              early stage cancer   True\n",
      "36        mid stage cancer                mid stage cancer              early stage cancer  False\n",
      "37  screening stage cancer  healthy/screening stage cancer  healthy/screening stage cancer   True\n",
      "38      early stage cancer              early stage cancer              early stage cancer   True\n",
      "39      early stage cancer              early stage cancer              early stage cancer   True\n",
      "40       late stage cancer               late stage cancer               late stage cancer   True\n",
      "41  screening stage cancer  healthy/screening stage cancer              early stage cancer  False\n",
      "42      early stage cancer              early stage cancer              early stage cancer   True\n",
      "43        mid stage cancer                mid stage cancer                mid stage cancer   True\n",
      "44       late stage cancer               late stage cancer               late stage cancer   True\n",
      "45  screening stage cancer  healthy/screening stage cancer  healthy/screening stage cancer   True\n",
      "46       late stage cancer               late stage cancer               late stage cancer   True\n",
      "47  screening stage cancer  healthy/screening stage cancer              early stage cancer  False\n",
      "48      early stage cancer              early stage cancer  healthy/screening stage cancer  False\n",
      "49       late stage cancer               late stage cancer               late stage cancer   True\n"
     ]
    }
   ],
   "source": [
    "pd.set_option('expand_frame_repr', False)\n",
    "\n",
    "res=df_test(df_sample)\n",
    "if res[-1] is not None:\n",
    "    pred,rf = res \n",
    "else:\n",
    "    pred = res[0]"
   ]
  },
  {
   "cell_type": "code",
   "execution_count": 91,
   "metadata": {},
   "outputs": [
    {
     "name": "stdout",
     "output_type": "stream",
     "text": [
      "0                 early stage cancer\n",
      "1                  late stage cancer\n",
      "2                   mid stage cancer\n",
      "3                   mid stage cancer\n",
      "4                 early stage cancer\n",
      "5                 early stage cancer\n",
      "6                  late stage cancer\n",
      "7     healthy/screening stage cancer\n",
      "8                   mid stage cancer\n",
      "9                 early stage cancer\n",
      "10    healthy/screening stage cancer\n",
      "11    healthy/screening stage cancer\n",
      "12                 late stage cancer\n",
      "13    healthy/screening stage cancer\n",
      "14    healthy/screening stage cancer\n",
      "15                early stage cancer\n",
      "16                 late stage cancer\n",
      "17                early stage cancer\n",
      "18                  mid stage cancer\n",
      "19                early stage cancer\n",
      "20    healthy/screening stage cancer\n",
      "21                  mid stage cancer\n",
      "22                  mid stage cancer\n",
      "23                early stage cancer\n",
      "24    healthy/screening stage cancer\n",
      "25                early stage cancer\n",
      "26                 late stage cancer\n",
      "27                  mid stage cancer\n",
      "28                early stage cancer\n",
      "29                early stage cancer\n",
      "30                 late stage cancer\n",
      "31                early stage cancer\n",
      "32                 late stage cancer\n",
      "33    healthy/screening stage cancer\n",
      "34                early stage cancer\n",
      "35                early stage cancer\n",
      "36                early stage cancer\n",
      "37    healthy/screening stage cancer\n",
      "38                early stage cancer\n",
      "39                early stage cancer\n",
      "40                 late stage cancer\n",
      "41                early stage cancer\n",
      "42                early stage cancer\n",
      "43                  mid stage cancer\n",
      "44                 late stage cancer\n",
      "45    healthy/screening stage cancer\n",
      "46                 late stage cancer\n",
      "47                early stage cancer\n",
      "48    healthy/screening stage cancer\n",
      "49                 late stage cancer\n",
      "Name: Predicted, dtype: object\n"
     ]
    }
   ],
   "source": [
    "print(pred)"
   ]
  },
  {
   "cell_type": "code",
   "execution_count": 92,
   "metadata": {},
   "outputs": [
    {
     "name": "stdout",
     "output_type": "stream",
     "text": [
      "                                precision    recall  f1-score   support\n",
      "\n",
      "            early stage cancer       0.60      0.71      0.65        17\n",
      "healthy/screening stage cancer       0.73      0.57      0.64        14\n",
      "             late stage cancer       1.00      0.92      0.96        12\n",
      "              mid stage cancer       0.62      0.71      0.67         7\n",
      "\n",
      "                      accuracy                           0.72        50\n",
      "                     macro avg       0.74      0.73      0.73        50\n",
      "                  weighted avg       0.74      0.72      0.72        50\n",
      "\n"
     ]
    }
   ],
   "source": [
    "target = 'class_label'\n",
    "if target in df.columns:\n",
    "    print(classification_report(rf['Modified Actual'],pred)) \n",
    "    # more tailored version of checking precision, recall and f1 of each category"
   ]
  }
 ],
 "metadata": {
  "kernelspec": {
   "display_name": "Python 3",
   "language": "python",
   "name": "python3"
  },
  "language_info": {
   "codemirror_mode": {
    "name": "ipython",
    "version": 3
   },
   "file_extension": ".py",
   "mimetype": "text/x-python",
   "name": "python",
   "nbconvert_exporter": "python",
   "pygments_lexer": "ipython3",
   "version": "3.11.4"
  }
 },
 "nbformat": 4,
 "nbformat_minor": 2
}
