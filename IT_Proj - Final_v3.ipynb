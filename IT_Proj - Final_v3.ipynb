{
 "cells": [
  {
   "cell_type": "code",
   "execution_count": 1,
   "metadata": {},
   "outputs": [],
   "source": [
    "import matplotlib.pyplot as plt \n",
    "import numpy as np\n",
    "import pickle\n",
    "import pandas as pd \n",
    "import re\n",
    "from sklearn.ensemble import RandomForestClassifier, GradientBoostingClassifier\n",
    "from sklearn.linear_model import LogisticRegression\n",
    "from sklearn.metrics import classification_report, precision_score,f1_score, make_scorer\n",
    "from sklearn.model_selection import train_test_split, StratifiedKFold, GridSearchCV\n",
    "from sklearn.neighbors import KNeighborsClassifier\n",
    "from imblearn.over_sampling import RandomOverSampler\n",
    "from sklearn.svm import SVC\n",
    "from sklearn.tree import DecisionTreeClassifier\n",
    "import warnings\n",
    "warnings.filterwarnings(\"ignore\")"
   ]
  },
  {
   "cell_type": "markdown",
   "metadata": {},
   "source": [
    "## 1. Loading, Processing and Splitting Data"
   ]
  },
  {
   "cell_type": "code",
   "execution_count": 2,
   "metadata": {},
   "outputs": [
    {
     "name": "stdout",
     "output_type": "stream",
     "text": [
      "Dimensions of DataFrame: (2193, 351)\n"
     ]
    },
    {
     "data": {
      "text/html": [
       "<div>\n",
       "<style scoped>\n",
       "    .dataframe tbody tr th:only-of-type {\n",
       "        vertical-align: middle;\n",
       "    }\n",
       "\n",
       "    .dataframe tbody tr th {\n",
       "        vertical-align: top;\n",
       "    }\n",
       "\n",
       "    .dataframe thead th {\n",
       "        text-align: right;\n",
       "    }\n",
       "</style>\n",
       "<table border=\"1\" class=\"dataframe\">\n",
       "  <thead>\n",
       "    <tr style=\"text-align: right;\">\n",
       "      <th></th>\n",
       "      <th>length_51</th>\n",
       "      <th>length_52</th>\n",
       "      <th>length_53</th>\n",
       "      <th>length_54</th>\n",
       "      <th>length_55</th>\n",
       "      <th>length_56</th>\n",
       "      <th>length_57</th>\n",
       "      <th>length_58</th>\n",
       "      <th>length_59</th>\n",
       "      <th>length_60</th>\n",
       "      <th>...</th>\n",
       "      <th>length_392</th>\n",
       "      <th>length_393</th>\n",
       "      <th>length_394</th>\n",
       "      <th>length_395</th>\n",
       "      <th>length_396</th>\n",
       "      <th>length_397</th>\n",
       "      <th>length_398</th>\n",
       "      <th>length_399</th>\n",
       "      <th>length_400</th>\n",
       "      <th>class_label</th>\n",
       "    </tr>\n",
       "  </thead>\n",
       "  <tbody>\n",
       "    <tr>\n",
       "      <th>0</th>\n",
       "      <td>0.000152</td>\n",
       "      <td>0.000082</td>\n",
       "      <td>0.000087</td>\n",
       "      <td>0.000092</td>\n",
       "      <td>0.000099</td>\n",
       "      <td>0.000125</td>\n",
       "      <td>0.000122</td>\n",
       "      <td>0.000115</td>\n",
       "      <td>0.000151</td>\n",
       "      <td>0.000167</td>\n",
       "      <td>...</td>\n",
       "      <td>0.007396</td>\n",
       "      <td>0.007193</td>\n",
       "      <td>0.006973</td>\n",
       "      <td>0.006481</td>\n",
       "      <td>0.006139</td>\n",
       "      <td>0.005958</td>\n",
       "      <td>0.005578</td>\n",
       "      <td>0.005327</td>\n",
       "      <td>0.005142</td>\n",
       "      <td>healthy</td>\n",
       "    </tr>\n",
       "    <tr>\n",
       "      <th>1</th>\n",
       "      <td>0.006256</td>\n",
       "      <td>0.006413</td>\n",
       "      <td>0.006512</td>\n",
       "      <td>0.006469</td>\n",
       "      <td>0.006810</td>\n",
       "      <td>0.007070</td>\n",
       "      <td>0.007748</td>\n",
       "      <td>0.008088</td>\n",
       "      <td>0.008671</td>\n",
       "      <td>0.008835</td>\n",
       "      <td>...</td>\n",
       "      <td>0.017830</td>\n",
       "      <td>0.017033</td>\n",
       "      <td>0.016373</td>\n",
       "      <td>0.015371</td>\n",
       "      <td>0.014340</td>\n",
       "      <td>0.013975</td>\n",
       "      <td>0.013243</td>\n",
       "      <td>0.012725</td>\n",
       "      <td>0.012267</td>\n",
       "      <td>healthy</td>\n",
       "    </tr>\n",
       "    <tr>\n",
       "      <th>2</th>\n",
       "      <td>0.003783</td>\n",
       "      <td>0.003886</td>\n",
       "      <td>0.004063</td>\n",
       "      <td>0.004237</td>\n",
       "      <td>0.004481</td>\n",
       "      <td>0.004832</td>\n",
       "      <td>0.004960</td>\n",
       "      <td>0.005605</td>\n",
       "      <td>0.005919</td>\n",
       "      <td>0.006480</td>\n",
       "      <td>...</td>\n",
       "      <td>0.010957</td>\n",
       "      <td>0.010481</td>\n",
       "      <td>0.009782</td>\n",
       "      <td>0.009211</td>\n",
       "      <td>0.008800</td>\n",
       "      <td>0.008320</td>\n",
       "      <td>0.007869</td>\n",
       "      <td>0.007286</td>\n",
       "      <td>0.007020</td>\n",
       "      <td>healthy</td>\n",
       "    </tr>\n",
       "    <tr>\n",
       "      <th>3</th>\n",
       "      <td>0.004635</td>\n",
       "      <td>0.004471</td>\n",
       "      <td>0.004383</td>\n",
       "      <td>0.004829</td>\n",
       "      <td>0.004920</td>\n",
       "      <td>0.005056</td>\n",
       "      <td>0.005475</td>\n",
       "      <td>0.006158</td>\n",
       "      <td>0.007174</td>\n",
       "      <td>0.007697</td>\n",
       "      <td>...</td>\n",
       "      <td>0.010032</td>\n",
       "      <td>0.008933</td>\n",
       "      <td>0.008970</td>\n",
       "      <td>0.008546</td>\n",
       "      <td>0.008125</td>\n",
       "      <td>0.007587</td>\n",
       "      <td>0.007501</td>\n",
       "      <td>0.006931</td>\n",
       "      <td>0.006663</td>\n",
       "      <td>healthy</td>\n",
       "    </tr>\n",
       "    <tr>\n",
       "      <th>4</th>\n",
       "      <td>0.011315</td>\n",
       "      <td>0.010045</td>\n",
       "      <td>0.009795</td>\n",
       "      <td>0.009906</td>\n",
       "      <td>0.010630</td>\n",
       "      <td>0.011467</td>\n",
       "      <td>0.013024</td>\n",
       "      <td>0.014853</td>\n",
       "      <td>0.016874</td>\n",
       "      <td>0.017501</td>\n",
       "      <td>...</td>\n",
       "      <td>0.009118</td>\n",
       "      <td>0.008535</td>\n",
       "      <td>0.008233</td>\n",
       "      <td>0.007754</td>\n",
       "      <td>0.007584</td>\n",
       "      <td>0.006933</td>\n",
       "      <td>0.006530</td>\n",
       "      <td>0.006378</td>\n",
       "      <td>0.005842</td>\n",
       "      <td>healthy</td>\n",
       "    </tr>\n",
       "  </tbody>\n",
       "</table>\n",
       "<p>5 rows × 351 columns</p>\n",
       "</div>"
      ],
      "text/plain": [
       "   length_51  length_52  length_53  length_54  length_55  length_56  \\\n",
       "0   0.000152   0.000082   0.000087   0.000092   0.000099   0.000125   \n",
       "1   0.006256   0.006413   0.006512   0.006469   0.006810   0.007070   \n",
       "2   0.003783   0.003886   0.004063   0.004237   0.004481   0.004832   \n",
       "3   0.004635   0.004471   0.004383   0.004829   0.004920   0.005056   \n",
       "4   0.011315   0.010045   0.009795   0.009906   0.010630   0.011467   \n",
       "\n",
       "   length_57  length_58  length_59  length_60  ...  length_392  length_393  \\\n",
       "0   0.000122   0.000115   0.000151   0.000167  ...    0.007396    0.007193   \n",
       "1   0.007748   0.008088   0.008671   0.008835  ...    0.017830    0.017033   \n",
       "2   0.004960   0.005605   0.005919   0.006480  ...    0.010957    0.010481   \n",
       "3   0.005475   0.006158   0.007174   0.007697  ...    0.010032    0.008933   \n",
       "4   0.013024   0.014853   0.016874   0.017501  ...    0.009118    0.008535   \n",
       "\n",
       "   length_394  length_395  length_396  length_397  length_398  length_399  \\\n",
       "0    0.006973    0.006481    0.006139    0.005958    0.005578    0.005327   \n",
       "1    0.016373    0.015371    0.014340    0.013975    0.013243    0.012725   \n",
       "2    0.009782    0.009211    0.008800    0.008320    0.007869    0.007286   \n",
       "3    0.008970    0.008546    0.008125    0.007587    0.007501    0.006931   \n",
       "4    0.008233    0.007754    0.007584    0.006933    0.006530    0.006378   \n",
       "\n",
       "   length_400  class_label  \n",
       "0    0.005142      healthy  \n",
       "1    0.012267      healthy  \n",
       "2    0.007020      healthy  \n",
       "3    0.006663      healthy  \n",
       "4    0.005842      healthy  \n",
       "\n",
       "[5 rows x 351 columns]"
      ]
     },
     "execution_count": 2,
     "metadata": {},
     "output_type": "execute_result"
    }
   ],
   "source": [
    "df = pd.read_csv(r\".\\NUS_IT\\Train_Set.csv\")\n",
    "test_df = pd.read_csv(r\".\\NUS_IT\\Test_Set.csv\")\n",
    "print(\"Dimensions of DataFrame:\",df.shape)\n",
    "df.head()"
   ]
  },
  {
   "cell_type": "code",
   "execution_count": 3,
   "metadata": {},
   "outputs": [
    {
     "data": {
      "text/plain": [
       "Index([], dtype='object')"
      ]
     },
     "execution_count": 3,
     "metadata": {},
     "output_type": "execute_result"
    }
   ],
   "source": [
    "## Checking the number of columns with missing values \n",
    "df.columns[df.isna().sum()>0] # no columns with any missing values "
   ]
  },
  {
   "cell_type": "code",
   "execution_count": 4,
   "metadata": {},
   "outputs": [
    {
     "data": {
      "text/plain": [
       "float64    350\n",
       "object       1\n",
       "dtype: int64"
      ]
     },
     "execution_count": 4,
     "metadata": {},
     "output_type": "execute_result"
    }
   ],
   "source": [
    "df.dtypes.value_counts() \n",
    "# 350 columns with float dtypes (decimal type); \n",
    "# 1 of which is non-numeric ('class_label') >> target column"
   ]
  },
  {
   "cell_type": "code",
   "execution_count": 5,
   "metadata": {},
   "outputs": [
    {
     "data": {
      "text/plain": [
       "early stage cancer        781\n",
       "screening stage cancer    490\n",
       "mid stage cancer          453\n",
       "late stage cancer         409\n",
       "healthy                    60\n",
       "Name: class_label, dtype: int64"
      ]
     },
     "execution_count": 5,
     "metadata": {},
     "output_type": "execute_result"
    }
   ],
   "source": [
    "df['class_label'].value_counts() \n",
    "# imbalanced dataset; either will upsample using SMOTE/ oversampling / class weights\n",
    "# last approach preferable"
   ]
  },
  {
   "cell_type": "code",
   "execution_count": 6,
   "metadata": {},
   "outputs": [
    {
     "data": {
      "text/plain": [
       "2    781\n",
       "1    550\n",
       "3    453\n",
       "4    409\n",
       "Name: class_label, dtype: int64"
      ]
     },
     "execution_count": 6,
     "metadata": {},
     "output_type": "execute_result"
    }
   ],
   "source": [
    "dic={\"healthy\":1,\"screening stage cancer\":1,\"early stage cancer\":2,\"mid stage cancer\":3,\"late stage cancer\":4} \n",
    "# presumption is that screening stage is before early stage --> \n",
    "# no development of cancer certain; only being checked\n",
    "# will equate that with healthy stage\n",
    "# split of healthy and screening stage cancer will be performed later\n",
    "# help to mitigate misclassification of other classes aggregated together\n",
    "df['class_label'].map(dic).value_counts() # mapped appropriately"
   ]
  },
  {
   "cell_type": "code",
   "execution_count": 7,
   "metadata": {},
   "outputs": [],
   "source": [
    "df['class_label'] = df['class_label'].map(dic)           \n",
    "# changes the class_label column to numeric (ML model requires numeric data)\n",
    "test_df['class_label'] = test_df['class_label'].map(dic) \n",
    "# likewise for the class_label column in the calidation dataset (test_df)"
   ]
  },
  {
   "cell_type": "code",
   "execution_count": 8,
   "metadata": {},
   "outputs": [],
   "source": [
    "#### --> train test split first (from only the train data csv ; test data csv will be used for testing (unseen data))\n",
    "r_state = 27 # for reproductibility of code\n",
    "target = \"class_label\" \n",
    "# for benefit of ez reference >> as opposed to always typing \"class_label\"\n",
    "X_features=[i for i in df.columns if i!=target] \n",
    "# all independent features\n",
    "\n",
    "val_p = 0.35\n",
    "\n",
    "X_train,X_test,y_train,y_test= train_test_split(df[X_features],df[target],test_size=val_p,stratify=df[target],random_state = r_state)\n",
    "df = pd.concat([X_train,y_train],axis=1) \n",
    "# train dataset\n",
    "dfv = pd.concat([X_test,y_test],axis=1) \n",
    "# validation dataset"
   ]
  },
  {
   "cell_type": "markdown",
   "metadata": {},
   "source": [
    "Based on the train_set csv file, no data has to be imputed owing to all columns being fully filled. \n",
    "350/351 columns are also numeric; with only the taget column (class_label) being ordinal; and thus requiring Label Encoding \n",
    "performed manually using a dictionary. \n",
    "\n",
    "For the encoding of this column, both Healthy and Screening Stage patients are initially assigned \n",
    "to the same category (Healthy/Screening Stage). They will be split later using a secondary model.\n",
    "The purpose for grouping the above 2 classes specifically first is to prevent severe imbalances of the dataset that could occur instead\n",
    "if all cancer classes (screening stage, early stage, mid stage and late stage) were conglomerated into 1 class and healthy in another class. Furthermore, with the investigated literature pointing towards most people in the screening stage of cancer likely being healthy, we find that such a measure is more realistic and explainable than any other.\n",
    "\n",
    "With all classes having a various number of samples\n",
    "that isn't balanced - the weighting of classes and possibly some for of oversampling will be used in the training of models to overcome this problem. SMOTE was considered; however given the fact that the data concerns cancer stages and the data created by SMOTE is synthetic and thus subject to blur the boundaries between the different stages of cancer even more, the idea was put aside. "
   ]
  },
  {
   "cell_type": "markdown",
   "metadata": {},
   "source": [
    "## 2. Identifying Important Features and Model Comparisons"
   ]
  },
  {
   "cell_type": "code",
   "execution_count": 9,
   "metadata": {},
   "outputs": [],
   "source": [
    "model = RandomForestClassifier(random_state=r_state,class_weight='balanced')\n",
    "model.fit(df[X_features], df[target])\n",
    "sig_features = model.feature_importances_ # importance of each feature obtained using Random Forest Classifier\n",
    "feature_scores = sorted([(i,e) for i,e in enumerate(sig_features)],key=lambda x:x[-1],reverse=True)\n",
    "forest_features = df.columns[list(map(lambda x:x[0],feature_scores))]"
   ]
  },
  {
   "cell_type": "code",
   "execution_count": 10,
   "metadata": {},
   "outputs": [],
   "source": [
    "# Also will take a while as model is being trained\n",
    "def model_trainer(df,dfv,best_cols):\n",
    "    dt_clf  = DecisionTreeClassifier(random_state=r_state,class_weight='balanced')\n",
    "    dt_clf.fit(df[best_cols],df[target])\n",
    "\n",
    "    rf_clf  = RandomForestClassifier(random_state=r_state,class_weight='balanced')\n",
    "    rf_clf.fit(df[best_cols],df[target])\n",
    "\n",
    "    gb_clf = GradientBoostingClassifier(random_state=r_state)\n",
    "    gb_clf.fit(df[best_cols],df[target])\n",
    "\n",
    "    svm_clf = SVC(random_state=r_state,gamma='scale')\n",
    "    svm_clf.fit(df[best_cols],df[target])\n",
    "    \n",
    "    sqrt_n = ((df.shape[0])**0.5)//1\n",
    "    sqrt_n = int(sqrt_n + (1 if sqrt_n%2==0 else 0))\n",
    "    knn_clf = KNeighborsClassifier(n_neighbors = sqrt_n)\n",
    "    knn_clf.fit(df[best_cols],df[target])\n",
    "\n",
    "    dt_pred  = dt_clf.predict(dfv[best_cols])\n",
    "    rf_pred  = rf_clf.predict(dfv[best_cols])\n",
    "    gb_pred = gb_clf.predict(dfv[best_cols])\n",
    "    svm_pred = svm_clf.predict(dfv[best_cols])\n",
    "    knn_pred = knn_clf.predict(dfv[best_cols])\n",
    "\n",
    "    reverse_lis = [k for k,v in sorted(dic.items(),key=lambda x:x[-1])]\n",
    "    reverse_lis = [reverse_lis[0]+'/'+reverse_lis[1]]+reverse_lis[2:]\n",
    "    \n",
    "    print(\"Decision Tree Report:\")\n",
    "    dt_r = classification_report(dfv[target],dt_pred,target_names = reverse_lis)\n",
    "    print(dt_r)\n",
    "    print(\"Random Forest Report:\")\n",
    "    rf_r = classification_report(dfv[target],rf_pred,target_names = reverse_lis)\n",
    "    print(rf_r)\n",
    "    print(\"GBoost Report:\")\n",
    "    xg_r = classification_report(dfv[target],gb_pred,target_names = reverse_lis)\n",
    "    print(xg_r)\n",
    "    print(\"SVM Report:\")\n",
    "    sv_r = classification_report(dfv[target],svm_pred,target_names = reverse_lis)\n",
    "    print(sv_r)\n",
    "    print(\"KNN Report:\")\n",
    "    kn_r = classification_report(dfv[target],knn_pred,target_names = reverse_lis)\n",
    "    print(kn_r)\n",
    "    return [dt_r,rf_r,xg_r,sv_r,kn_r]"
   ]
  },
  {
   "cell_type": "markdown",
   "metadata": {},
   "source": [
    "5 different ML models are utilised - Decision Trees, Random Forest, Gradient Boosting, K nearest neighbours (KNN) and Support Vector Machines (SVM).\n",
    "\n",
    "The metrics from sklearn's classification reports are used as a standard to compare the performances of the models, \n",
    "notably with the f1 score. Given that the data has already been normalised as per the README document sent alongside these datasets, we felt that further normalisation/ standardisation measures were not required. This is also heightened by the fact that we chose 3 tree based models which are generally accepted to be more robust to all types of data - even those that are not standardised/ normalised\n",
    "\n",
    "Models with significantly poorer f1 score results will be removed further on and hyperparameter\n",
    "tuning will be performed on the best-performing model from the 5 selected above."
   ]
  },
  {
   "cell_type": "code",
   "execution_count": 11,
   "metadata": {},
   "outputs": [
    {
     "data": {
      "image/png": "[encoded data removed]",
      "text/plain": [
       "<Figure size 2500x800 with 1 Axes>"
      ]
     },
     "metadata": {},
     "output_type": "display_data"
    }
   ],
   "source": [
    "scores_by_cols = sorted(list(zip(forest_features,map(lambda x:x[-1],feature_scores))),key=lambda x:int(x[0].split('_')[-1]))\n",
    "colnames = list(map(lambda x:x[0].split('_')[-1],scores_by_cols))\n",
    "scores = list(map(lambda x:x[1],scores_by_cols))\n",
    "plt.figure(figsize=(25,8))\n",
    "plt.scatter(colnames,scores)\n",
    "plt.xticks(rotation=90)\n",
    "plt.tick_params(axis='x',labelsize=4.5)\n",
    "plt.show() # plot of the importance of each feature with relation to each class is shown"
   ]
  },
  {
   "cell_type": "markdown",
   "metadata": {},
   "source": [
    "In the meanwhile, the feature scores of the different independent columns are observed - with the aim being to identify a benchmark\n",
    "at which a number of features can be chosen to grant good performance for the final ML model without requiring too many features to be selected - avoiding the [curse of dimensionality](https://dataloop.ai/blog/the-curse-of-dimensionality-dimension-reduction/#:~:text=The%20curse%20of%20dimensionality%20refers,features%20that%20exist%20in%20it).\n",
    "\n",
    "However, instead of arbitrarily deciding a threshold on our own, we decided to choose the top-n features (based off their feature scores) and observe the performance of the results as we concede that the dataset is relatively small with regards to the number of data points and it is possible that most, if not all, of the features are essential in helping to ensure good classification"
   ]
  },
  {
   "cell_type": "code",
   "execution_count": 12,
   "metadata": {},
   "outputs": [
    {
     "name": "stdout",
     "output_type": "stream",
     "text": [
      "Median Score: 0.0017065162269242935\n",
      "Mean Score  : 0.002857142857142857\n",
      "Scores at 25th percentile: 0.001150 and\n",
      "\t  75th percentile: 0.002920\n"
     ]
    }
   ],
   "source": [
    "scores = np.array(scores)\n",
    "print(f\"Median Score: {np.median(scores)}\")\n",
    "print(f\"Mean Score  : {np.mean(scores)}\")\n",
    "iqr = np.quantile(scores,(0.25,0.75))\n",
    "print(f\"Scores at 25th percentile: {iqr[0]:.6f} and\\n\\t  75th percentile: {iqr[-1]:.6f}\")"
   ]
  },
  {
   "cell_type": "code",
   "execution_count": 13,
   "metadata": {},
   "outputs": [
    {
     "name": "stdout",
     "output_type": "stream",
     "text": [
      "Number of Features with scores\n",
      "above the 25th percentile : 262\n",
      "above the median          : 175\n",
      "above the mean            : 90\n",
      "above the 75th percentile : 88\n"
     ]
    }
   ],
   "source": [
    "above_75th = len(scores[scores>=iqr[1]])\n",
    "above_mean = len(scores[scores>=np.mean(scores)])\n",
    "above_median = len(scores[scores>=np.median(scores)])\n",
    "above_25th = len(scores[scores>=iqr[0]])\n",
    "above_p = [('25th percentile',above_25th),('median',above_median),('mean',above_mean),('75th percentile',above_75th)]\n",
    "print(\"Number of Features with scores\\n\" +'\\n'.join([f'above the {i[0]:<16}: '+str(i[-1]) for i in above_p]))\n",
    "# aim to look at number of top n-ranked features where n is \n",
    "# a number from 90 - 275 >> basis of comparison against all features (350)"
   ]
  },
  {
   "cell_type": "markdown",
   "metadata": {},
   "source": [
    "Given how there are 88 features with a score above the 75th percentile of the scores of all features and 262 features with a score above the 25th percentile, we aim to observe the performance of our ML models based on set changes in the number of features used in our dataset and compare the average f1 score for accuracy, macro avg and weighted avg amongst all the models"
   ]
  },
  {
   "cell_type": "code",
   "execution_count": 14,
   "metadata": {},
   "outputs": [
    {
     "name": "stdout",
     "output_type": "stream",
     "text": [
      "Top 90 features\n",
      "Decision Tree Report:\n",
      "                                precision    recall  f1-score   support\n",
      "\n",
      "healthy/screening stage cancer       0.83      0.83      0.83       193\n",
      "            early stage cancer       0.80      0.81      0.80       273\n",
      "              mid stage cancer       0.73      0.74      0.73       159\n",
      "             late stage cancer       0.91      0.87      0.89       143\n",
      "\n",
      "                      accuracy                           0.81       768\n",
      "                     macro avg       0.82      0.81      0.81       768\n",
      "                  weighted avg       0.81      0.81      0.81       768\n",
      "\n",
      "Random Forest Report:\n",
      "                                precision    recall  f1-score   support\n",
      "\n",
      "healthy/screening stage cancer       0.86      0.89      0.87       193\n",
      "            early stage cancer       0.85      0.85      0.85       273\n",
      "              mid stage cancer       0.78      0.81      0.79       159\n",
      "             late stage cancer       0.93      0.85      0.89       143\n",
      "\n",
      "                      accuracy                           0.85       768\n",
      "                     macro avg       0.85      0.85      0.85       768\n",
      "                  weighted avg       0.85      0.85      0.85       768\n",
      "\n",
      "GBoost Report:\n",
      "                                precision    recall  f1-score   support\n",
      "\n",
      "healthy/screening stage cancer       0.86      0.86      0.86       193\n",
      "            early stage cancer       0.82      0.87      0.84       273\n",
      "              mid stage cancer       0.78      0.78      0.78       159\n",
      "             late stage cancer       0.94      0.82      0.87       143\n",
      "\n",
      "                      accuracy                           0.84       768\n",
      "                     macro avg       0.85      0.83      0.84       768\n",
      "                  weighted avg       0.84      0.84      0.84       768\n",
      "\n",
      "SVM Report:\n",
      "                                precision    recall  f1-score   support\n",
      "\n",
      "healthy/screening stage cancer       0.00      0.00      0.00       193\n",
      "            early stage cancer       0.48      0.96      0.64       273\n",
      "              mid stage cancer       0.63      0.38      0.48       159\n",
      "             late stage cancer       0.89      0.76      0.82       143\n",
      "\n",
      "                      accuracy                           0.56       768\n",
      "                     macro avg       0.50      0.53      0.48       768\n",
      "                  weighted avg       0.47      0.56      0.48       768\n",
      "\n",
      "KNN Report:\n",
      "                                precision    recall  f1-score   support\n",
      "\n",
      "healthy/screening stage cancer       0.68      0.56      0.62       193\n",
      "            early stage cancer       0.58      0.81      0.68       273\n",
      "              mid stage cancer       0.70      0.49      0.58       159\n",
      "             late stage cancer       0.93      0.73      0.82       143\n",
      "\n",
      "                      accuracy                           0.67       768\n",
      "                     macro avg       0.72      0.65      0.67       768\n",
      "                  weighted avg       0.69      0.67      0.67       768\n",
      "\n",
      "Top 100 features\n",
      "Decision Tree Report:\n",
      "                                precision    recall  f1-score   support\n",
      "\n",
      "healthy/screening stage cancer       0.81      0.84      0.83       193\n",
      "            early stage cancer       0.82      0.81      0.81       273\n",
      "              mid stage cancer       0.76      0.74      0.75       159\n",
      "             late stage cancer       0.89      0.87      0.88       143\n",
      "\n",
      "                      accuracy                           0.82       768\n",
      "                     macro avg       0.82      0.82      0.82       768\n",
      "                  weighted avg       0.82      0.82      0.82       768\n",
      "\n",
      "Random Forest Report:\n",
      "                                precision    recall  f1-score   support\n",
      "\n",
      "healthy/screening stage cancer       0.86      0.89      0.87       193\n",
      "            early stage cancer       0.84      0.86      0.85       273\n",
      "              mid stage cancer       0.80      0.80      0.80       159\n",
      "             late stage cancer       0.94      0.87      0.90       143\n",
      "\n",
      "                      accuracy                           0.85       768\n",
      "                     macro avg       0.86      0.85      0.86       768\n",
      "                  weighted avg       0.86      0.85      0.85       768\n",
      "\n",
      "GBoost Report:\n",
      "                                precision    recall  f1-score   support\n",
      "\n",
      "healthy/screening stage cancer       0.86      0.85      0.86       193\n",
      "            early stage cancer       0.82      0.87      0.85       273\n",
      "              mid stage cancer       0.77      0.80      0.78       159\n",
      "             late stage cancer       0.94      0.80      0.87       143\n",
      "\n",
      "                      accuracy                           0.84       768\n",
      "                     macro avg       0.85      0.83      0.84       768\n",
      "                  weighted avg       0.84      0.84      0.84       768\n",
      "\n",
      "SVM Report:\n",
      "                                precision    recall  f1-score   support\n",
      "\n",
      "healthy/screening stage cancer       0.00      0.00      0.00       193\n",
      "            early stage cancer       0.48      0.96      0.64       273\n",
      "              mid stage cancer       0.64      0.40      0.49       159\n",
      "             late stage cancer       0.89      0.77      0.83       143\n",
      "\n",
      "                      accuracy                           0.57       768\n",
      "                     macro avg       0.50      0.53      0.49       768\n",
      "                  weighted avg       0.47      0.57      0.48       768\n",
      "\n",
      "KNN Report:\n",
      "                                precision    recall  f1-score   support\n",
      "\n",
      "healthy/screening stage cancer       0.63      0.54      0.58       193\n",
      "            early stage cancer       0.57      0.79      0.66       273\n",
      "              mid stage cancer       0.65      0.47      0.54       159\n",
      "             late stage cancer       0.94      0.72      0.81       143\n",
      "\n",
      "                      accuracy                           0.65       768\n",
      "                     macro avg       0.70      0.63      0.65       768\n",
      "                  weighted avg       0.67      0.65      0.64       768\n",
      "\n",
      "Top 125 features\n",
      "Decision Tree Report:\n",
      "                                precision    recall  f1-score   support\n",
      "\n",
      "healthy/screening stage cancer       0.80      0.84      0.82       193\n",
      "            early stage cancer       0.80      0.83      0.81       273\n",
      "              mid stage cancer       0.78      0.73      0.75       159\n",
      "             late stage cancer       0.91      0.85      0.88       143\n",
      "\n",
      "                      accuracy                           0.82       768\n",
      "                     macro avg       0.82      0.81      0.82       768\n",
      "                  weighted avg       0.82      0.82      0.82       768\n",
      "\n",
      "Random Forest Report:\n",
      "                                precision    recall  f1-score   support\n",
      "\n",
      "healthy/screening stage cancer       0.87      0.90      0.88       193\n",
      "            early stage cancer       0.85      0.86      0.86       273\n",
      "              mid stage cancer       0.80      0.81      0.80       159\n",
      "             late stage cancer       0.95      0.87      0.91       143\n",
      "\n",
      "                      accuracy                           0.86       768\n",
      "                     macro avg       0.87      0.86      0.86       768\n",
      "                  weighted avg       0.86      0.86      0.86       768\n",
      "\n",
      "GBoost Report:\n",
      "                                precision    recall  f1-score   support\n",
      "\n",
      "healthy/screening stage cancer       0.87      0.87      0.87       193\n",
      "            early stage cancer       0.83      0.86      0.85       273\n",
      "              mid stage cancer       0.78      0.81      0.79       159\n",
      "             late stage cancer       0.94      0.84      0.89       143\n",
      "\n",
      "                      accuracy                           0.85       768\n",
      "                     macro avg       0.86      0.84      0.85       768\n",
      "                  weighted avg       0.85      0.85      0.85       768\n",
      "\n",
      "SVM Report:\n",
      "                                precision    recall  f1-score   support\n",
      "\n",
      "healthy/screening stage cancer       0.00      0.00      0.00       193\n",
      "            early stage cancer       0.48      0.96      0.64       273\n",
      "              mid stage cancer       0.65      0.42      0.51       159\n",
      "             late stage cancer       0.89      0.77      0.83       143\n",
      "\n",
      "                      accuracy                           0.57       768\n",
      "                     macro avg       0.51      0.54      0.49       768\n",
      "                  weighted avg       0.47      0.57      0.49       768\n",
      "\n",
      "KNN Report:\n",
      "                                precision    recall  f1-score   support\n",
      "\n",
      "healthy/screening stage cancer       0.61      0.53      0.57       193\n",
      "            early stage cancer       0.56      0.79      0.66       273\n",
      "              mid stage cancer       0.68      0.47      0.55       159\n",
      "             late stage cancer       0.94      0.72      0.81       143\n",
      "\n",
      "                      accuracy                           0.64       768\n",
      "                     macro avg       0.70      0.63      0.65       768\n",
      "                  weighted avg       0.67      0.64      0.64       768\n",
      "\n",
      "Top 150 features\n",
      "Decision Tree Report:\n",
      "                                precision    recall  f1-score   support\n",
      "\n",
      "healthy/screening stage cancer       0.81      0.84      0.82       193\n",
      "            early stage cancer       0.80      0.82      0.81       273\n",
      "              mid stage cancer       0.70      0.70      0.70       159\n",
      "             late stage cancer       0.91      0.80      0.85       143\n",
      "\n",
      "                      accuracy                           0.80       768\n",
      "                     macro avg       0.80      0.79      0.80       768\n",
      "                  weighted avg       0.80      0.80      0.80       768\n",
      "\n",
      "Random Forest Report:\n",
      "                                precision    recall  f1-score   support\n",
      "\n",
      "healthy/screening stage cancer       0.87      0.90      0.88       193\n",
      "            early stage cancer       0.86      0.87      0.86       273\n",
      "              mid stage cancer       0.80      0.82      0.81       159\n",
      "             late stage cancer       0.94      0.86      0.90       143\n",
      "\n",
      "                      accuracy                           0.86       768\n",
      "                     macro avg       0.87      0.86      0.86       768\n",
      "                  weighted avg       0.86      0.86      0.86       768\n",
      "\n",
      "GBoost Report:\n",
      "                                precision    recall  f1-score   support\n",
      "\n",
      "healthy/screening stage cancer       0.88      0.87      0.87       193\n",
      "            early stage cancer       0.83      0.88      0.85       273\n",
      "              mid stage cancer       0.77      0.81      0.79       159\n",
      "             late stage cancer       0.94      0.82      0.87       143\n",
      "\n",
      "                      accuracy                           0.85       768\n",
      "                     macro avg       0.85      0.84      0.85       768\n",
      "                  weighted avg       0.85      0.85      0.85       768\n",
      "\n",
      "SVM Report:\n",
      "                                precision    recall  f1-score   support\n",
      "\n",
      "healthy/screening stage cancer       0.00      0.00      0.00       193\n",
      "            early stage cancer       0.48      0.96      0.64       273\n",
      "              mid stage cancer       0.62      0.41      0.49       159\n",
      "             late stage cancer       0.89      0.76      0.82       143\n",
      "\n",
      "                      accuracy                           0.57       768\n",
      "                     macro avg       0.50      0.53      0.49       768\n",
      "                  weighted avg       0.47      0.57      0.48       768\n",
      "\n",
      "KNN Report:\n",
      "                                precision    recall  f1-score   support\n",
      "\n",
      "healthy/screening stage cancer       0.59      0.49      0.54       193\n",
      "            early stage cancer       0.55      0.79      0.65       273\n",
      "              mid stage cancer       0.65      0.46      0.54       159\n",
      "             late stage cancer       0.93      0.70      0.80       143\n",
      "\n",
      "                      accuracy                           0.63       768\n",
      "                     macro avg       0.68      0.61      0.63       768\n",
      "                  weighted avg       0.65      0.63      0.63       768\n",
      "\n",
      "Top 175 features\n",
      "Decision Tree Report:\n",
      "                                precision    recall  f1-score   support\n",
      "\n",
      "healthy/screening stage cancer       0.82      0.85      0.84       193\n",
      "            early stage cancer       0.82      0.84      0.83       273\n",
      "              mid stage cancer       0.75      0.69      0.71       159\n",
      "             late stage cancer       0.86      0.85      0.85       143\n",
      "\n",
      "                      accuracy                           0.81       768\n",
      "                     macro avg       0.81      0.81      0.81       768\n",
      "                  weighted avg       0.81      0.81      0.81       768\n",
      "\n",
      "Random Forest Report:\n",
      "                                precision    recall  f1-score   support\n",
      "\n",
      "healthy/screening stage cancer       0.87      0.90      0.89       193\n",
      "            early stage cancer       0.87      0.88      0.87       273\n",
      "              mid stage cancer       0.81      0.82      0.81       159\n",
      "             late stage cancer       0.94      0.85      0.89       143\n",
      "\n",
      "                      accuracy                           0.87       768\n",
      "                     macro avg       0.87      0.86      0.87       768\n",
      "                  weighted avg       0.87      0.87      0.87       768\n",
      "\n",
      "GBoost Report:\n",
      "                                precision    recall  f1-score   support\n",
      "\n",
      "healthy/screening stage cancer       0.88      0.85      0.87       193\n",
      "            early stage cancer       0.83      0.88      0.85       273\n",
      "              mid stage cancer       0.77      0.80      0.78       159\n",
      "             late stage cancer       0.94      0.82      0.87       143\n",
      "\n",
      "                      accuracy                           0.85       768\n",
      "                     macro avg       0.85      0.84      0.84       768\n",
      "                  weighted avg       0.85      0.85      0.85       768\n",
      "\n",
      "SVM Report:\n",
      "                                precision    recall  f1-score   support\n",
      "\n",
      "healthy/screening stage cancer       0.00      0.00      0.00       193\n",
      "            early stage cancer       0.48      0.96      0.64       273\n",
      "              mid stage cancer       0.62      0.41      0.49       159\n",
      "             late stage cancer       0.89      0.76      0.82       143\n",
      "\n",
      "                      accuracy                           0.57       768\n",
      "                     macro avg       0.50      0.53      0.49       768\n",
      "                  weighted avg       0.47      0.57      0.48       768\n",
      "\n",
      "KNN Report:\n",
      "                                precision    recall  f1-score   support\n",
      "\n",
      "healthy/screening stage cancer       0.58      0.47      0.52       193\n",
      "            early stage cancer       0.55      0.79      0.65       273\n",
      "              mid stage cancer       0.64      0.45      0.53       159\n",
      "             late stage cancer       0.93      0.69      0.80       143\n",
      "\n",
      "                      accuracy                           0.62       768\n",
      "                     macro avg       0.68      0.60      0.62       768\n",
      "                  weighted avg       0.65      0.62      0.62       768\n",
      "\n",
      "Top 225 features\n",
      "Decision Tree Report:\n",
      "                                precision    recall  f1-score   support\n",
      "\n",
      "healthy/screening stage cancer       0.85      0.81      0.83       193\n",
      "            early stage cancer       0.80      0.87      0.83       273\n",
      "              mid stage cancer       0.80      0.74      0.77       159\n",
      "             late stage cancer       0.91      0.87      0.89       143\n",
      "\n",
      "                      accuracy                           0.83       768\n",
      "                     macro avg       0.84      0.82      0.83       768\n",
      "                  weighted avg       0.83      0.83      0.83       768\n",
      "\n",
      "Random Forest Report:\n",
      "                                precision    recall  f1-score   support\n",
      "\n",
      "healthy/screening stage cancer       0.87      0.91      0.89       193\n",
      "            early stage cancer       0.86      0.88      0.87       273\n",
      "              mid stage cancer       0.82      0.82      0.82       159\n",
      "             late stage cancer       0.95      0.85      0.90       143\n",
      "\n",
      "                      accuracy                           0.87       768\n",
      "                     macro avg       0.87      0.86      0.87       768\n",
      "                  weighted avg       0.87      0.87      0.87       768\n",
      "\n",
      "GBoost Report:\n",
      "                                precision    recall  f1-score   support\n",
      "\n",
      "healthy/screening stage cancer       0.89      0.88      0.88       193\n",
      "            early stage cancer       0.83      0.90      0.86       273\n",
      "              mid stage cancer       0.79      0.77      0.78       159\n",
      "             late stage cancer       0.94      0.83      0.88       143\n",
      "\n",
      "                      accuracy                           0.86       768\n",
      "                     macro avg       0.86      0.85      0.85       768\n",
      "                  weighted avg       0.86      0.86      0.86       768\n",
      "\n",
      "SVM Report:\n",
      "                                precision    recall  f1-score   support\n",
      "\n",
      "healthy/screening stage cancer       0.00      0.00      0.00       193\n",
      "            early stage cancer       0.48      0.96      0.64       273\n",
      "              mid stage cancer       0.62      0.40      0.49       159\n",
      "             late stage cancer       0.89      0.75      0.81       143\n",
      "\n",
      "                      accuracy                           0.56       768\n",
      "                     macro avg       0.50      0.53      0.48       768\n",
      "                  weighted avg       0.46      0.56      0.48       768\n",
      "\n",
      "KNN Report:\n",
      "                                precision    recall  f1-score   support\n",
      "\n",
      "healthy/screening stage cancer       0.58      0.44      0.50       193\n",
      "            early stage cancer       0.54      0.80      0.65       273\n",
      "              mid stage cancer       0.64      0.47      0.54       159\n",
      "             late stage cancer       0.93      0.67      0.78       143\n",
      "\n",
      "                      accuracy                           0.62       768\n",
      "                     macro avg       0.67      0.59      0.62       768\n",
      "                  weighted avg       0.65      0.62      0.61       768\n",
      "\n",
      "Top 250 features\n",
      "Decision Tree Report:\n",
      "                                precision    recall  f1-score   support\n",
      "\n",
      "healthy/screening stage cancer       0.84      0.82      0.83       193\n",
      "            early stage cancer       0.81      0.85      0.83       273\n",
      "              mid stage cancer       0.72      0.72      0.72       159\n",
      "             late stage cancer       0.87      0.83      0.85       143\n",
      "\n",
      "                      accuracy                           0.81       768\n",
      "                     macro avg       0.81      0.80      0.81       768\n",
      "                  weighted avg       0.81      0.81      0.81       768\n",
      "\n",
      "Random Forest Report:\n",
      "                                precision    recall  f1-score   support\n",
      "\n",
      "healthy/screening stage cancer       0.87      0.91      0.89       193\n",
      "            early stage cancer       0.85      0.86      0.86       273\n",
      "              mid stage cancer       0.80      0.81      0.80       159\n",
      "             late stage cancer       0.94      0.86      0.90       143\n",
      "\n",
      "                      accuracy                           0.86       768\n",
      "                     macro avg       0.86      0.86      0.86       768\n",
      "                  weighted avg       0.86      0.86      0.86       768\n",
      "\n",
      "GBoost Report:\n",
      "                                precision    recall  f1-score   support\n",
      "\n",
      "healthy/screening stage cancer       0.87      0.88      0.87       193\n",
      "            early stage cancer       0.83      0.88      0.85       273\n",
      "              mid stage cancer       0.78      0.79      0.78       159\n",
      "             late stage cancer       0.94      0.83      0.88       143\n",
      "\n",
      "                      accuracy                           0.85       768\n",
      "                     macro avg       0.85      0.84      0.85       768\n",
      "                  weighted avg       0.85      0.85      0.85       768\n",
      "\n",
      "SVM Report:\n",
      "                                precision    recall  f1-score   support\n",
      "\n",
      "healthy/screening stage cancer       0.00      0.00      0.00       193\n",
      "            early stage cancer       0.48      0.96      0.64       273\n",
      "              mid stage cancer       0.62      0.41      0.49       159\n",
      "             late stage cancer       0.90      0.75      0.82       143\n",
      "\n",
      "                      accuracy                           0.56       768\n",
      "                     macro avg       0.50      0.53      0.49       768\n",
      "                  weighted avg       0.47      0.56      0.48       768\n",
      "\n",
      "KNN Report:\n",
      "                                precision    recall  f1-score   support\n",
      "\n",
      "healthy/screening stage cancer       0.59      0.44      0.50       193\n",
      "            early stage cancer       0.54      0.81      0.65       273\n",
      "              mid stage cancer       0.65      0.47      0.55       159\n",
      "             late stage cancer       0.93      0.68      0.79       143\n",
      "\n",
      "                      accuracy                           0.62       768\n",
      "                     macro avg       0.68      0.60      0.62       768\n",
      "                  weighted avg       0.65      0.62      0.62       768\n",
      "\n",
      "Top 275 features\n",
      "Decision Tree Report:\n",
      "                                precision    recall  f1-score   support\n",
      "\n",
      "healthy/screening stage cancer       0.82      0.81      0.81       193\n",
      "            early stage cancer       0.78      0.84      0.81       273\n",
      "              mid stage cancer       0.76      0.70      0.73       159\n",
      "             late stage cancer       0.90      0.85      0.87       143\n",
      "\n",
      "                      accuracy                           0.81       768\n",
      "                     macro avg       0.81      0.80      0.81       768\n",
      "                  weighted avg       0.81      0.81      0.81       768\n",
      "\n",
      "Random Forest Report:\n",
      "                                precision    recall  f1-score   support\n",
      "\n",
      "healthy/screening stage cancer       0.88      0.91      0.89       193\n",
      "            early stage cancer       0.86      0.88      0.87       273\n",
      "              mid stage cancer       0.83      0.81      0.82       159\n",
      "             late stage cancer       0.93      0.88      0.91       143\n",
      "\n",
      "                      accuracy                           0.87       768\n",
      "                     macro avg       0.88      0.87      0.87       768\n",
      "                  weighted avg       0.87      0.87      0.87       768\n",
      "\n",
      "GBoost Report:\n",
      "                                precision    recall  f1-score   support\n",
      "\n",
      "healthy/screening stage cancer       0.88      0.87      0.87       193\n",
      "            early stage cancer       0.82      0.89      0.85       273\n",
      "              mid stage cancer       0.78      0.77      0.78       159\n",
      "             late stage cancer       0.94      0.82      0.87       143\n",
      "\n",
      "                      accuracy                           0.85       768\n",
      "                     macro avg       0.85      0.84      0.84       768\n",
      "                  weighted avg       0.85      0.85      0.85       768\n",
      "\n",
      "SVM Report:\n",
      "                                precision    recall  f1-score   support\n",
      "\n",
      "healthy/screening stage cancer       0.00      0.00      0.00       193\n",
      "            early stage cancer       0.48      0.96      0.64       273\n",
      "              mid stage cancer       0.62      0.41      0.49       159\n",
      "             late stage cancer       0.91      0.75      0.82       143\n",
      "\n",
      "                      accuracy                           0.57       768\n",
      "                     macro avg       0.50      0.53      0.49       768\n",
      "                  weighted avg       0.47      0.57      0.48       768\n",
      "\n",
      "KNN Report:\n",
      "                                precision    recall  f1-score   support\n",
      "\n",
      "healthy/screening stage cancer       0.59      0.44      0.50       193\n",
      "            early stage cancer       0.54      0.81      0.65       273\n",
      "              mid stage cancer       0.65      0.47      0.54       159\n",
      "             late stage cancer       0.93      0.69      0.80       143\n",
      "\n",
      "                      accuracy                           0.62       768\n",
      "                     macro avg       0.68      0.60      0.62       768\n",
      "                  weighted avg       0.65      0.62      0.62       768\n",
      "\n",
      "Top 350 features\n",
      "Decision Tree Report:\n",
      "                                precision    recall  f1-score   support\n",
      "\n",
      "healthy/screening stage cancer       0.83      0.82      0.82       193\n",
      "            early stage cancer       0.79      0.84      0.81       273\n",
      "              mid stage cancer       0.77      0.70      0.73       159\n",
      "             late stage cancer       0.88      0.88      0.88       143\n",
      "\n",
      "                      accuracy                           0.81       768\n",
      "                     macro avg       0.82      0.81      0.81       768\n",
      "                  weighted avg       0.81      0.81      0.81       768\n",
      "\n",
      "Random Forest Report:\n",
      "                                precision    recall  f1-score   support\n",
      "\n",
      "healthy/screening stage cancer       0.88      0.91      0.89       193\n",
      "            early stage cancer       0.87      0.88      0.87       273\n",
      "              mid stage cancer       0.83      0.82      0.83       159\n",
      "             late stage cancer       0.95      0.87      0.91       143\n",
      "\n",
      "                      accuracy                           0.88       768\n",
      "                     macro avg       0.88      0.87      0.88       768\n",
      "                  weighted avg       0.88      0.88      0.88       768\n",
      "\n",
      "GBoost Report:\n",
      "                                precision    recall  f1-score   support\n",
      "\n",
      "healthy/screening stage cancer       0.89      0.88      0.89       193\n",
      "            early stage cancer       0.84      0.89      0.86       273\n",
      "              mid stage cancer       0.78      0.78      0.78       159\n",
      "             late stage cancer       0.93      0.82      0.87       143\n",
      "\n",
      "                      accuracy                           0.85       768\n",
      "                     macro avg       0.86      0.84      0.85       768\n",
      "                  weighted avg       0.85      0.85      0.85       768\n",
      "\n",
      "SVM Report:\n",
      "                                precision    recall  f1-score   support\n",
      "\n",
      "healthy/screening stage cancer       0.00      0.00      0.00       193\n",
      "            early stage cancer       0.48      0.96      0.64       273\n",
      "              mid stage cancer       0.62      0.39      0.48       159\n",
      "             late stage cancer       0.90      0.75      0.82       143\n",
      "\n",
      "                      accuracy                           0.56       768\n",
      "                     macro avg       0.50      0.52      0.48       768\n",
      "                  weighted avg       0.47      0.56      0.48       768\n",
      "\n",
      "KNN Report:\n",
      "                                precision    recall  f1-score   support\n",
      "\n",
      "healthy/screening stage cancer       0.56      0.43      0.49       193\n",
      "            early stage cancer       0.54      0.79      0.64       273\n",
      "              mid stage cancer       0.66      0.47      0.55       159\n",
      "             late stage cancer       0.93      0.70      0.80       143\n",
      "\n",
      "                      accuracy                           0.62       768\n",
      "                     macro avg       0.67      0.60      0.62       768\n",
      "                  weighted avg       0.64      0.62      0.61       768\n",
      "\n"
     ]
    }
   ],
   "source": [
    "# code cell runs for abt 9 - 15 min \n",
    "d={}\n",
    "no_of_features = [90,100,125,150,175,225,250,275,350]\n",
    "for i in no_of_features: \n",
    "    print(f\"Top {i} features\")\n",
    "    best_cols = forest_features[:i]\n",
    "    l = model_trainer(df,dfv,best_cols) \n",
    "    a = list(map(lambda x:x.strip().split('\\n'),l))\n",
    "    k = ['Decision Tree','Random Forest','GBoost','SVM','KNN']\n",
    "    for n,e in enumerate(a):\n",
    "        key = f\"{i} - {(k[n])}\"\n",
    "        z=[float(i[-1]) for i in list(map(lambda x:re.findall(\"\\d\\.\\d\\d\",x),e)) if len(i)>0]\n",
    "        d[key] = z\n",
    "# Already apparent out of the gate that Decision Tree, Random Forest \n",
    "# and GBoost Models perform significantly better than SVM & KNN models"
   ]
  },
  {
   "cell_type": "code",
   "execution_count": 15,
   "metadata": {},
   "outputs": [],
   "source": [
    "features = sorted(set(map(lambda x:int(x.split('-')[0].strip()),d.keys())))\n",
    "models = list(map(lambda x:(x.split('-')[-1].strip()),d.keys()))[:5]\n",
    "data=[]\n",
    "for e in features:\n",
    "    li=[e]\n",
    "    for m in models:\n",
    "        li.append(sum(d[f\"{e} - {m}\"][:4])/4) \n",
    "    data.append(li) \n",
    "# average f1 score of the classes (healthy/screening stage, early stage, mid stage, late stage) \n",
    "# of different ML models with different number of features is calculated and displayed in bar graph below"
   ]
  },
  {
   "cell_type": "code",
   "execution_count": 16,
   "metadata": {},
   "outputs": [
    {
     "data": {
      "image/png": "[encoded data removed]",
      "text/plain": [
       "<Figure size 640x480 with 1 Axes>"
      ]
     },
     "metadata": {},
     "output_type": "display_data"
    }
   ],
   "source": [
    "tf = pd.DataFrame(data, columns=['Features']+models)\n",
    "tf.plot(x='Features', \n",
    "        kind='bar', \n",
    "        stacked=False, \n",
    "        title='Average F1 Score')\n",
    "plt.ylim(bottom=0.3,top=0.9)\n",
    "plt.show() \n",
    "# significantly apparent that Decision Tree, Random Forest \n",
    "# and GBoost (Gradient Boosting) classifiers perform better han SVM and KNN \n",
    "# >> will remove the latter 2 instances and focus on the former 3"
   ]
  },
  {
   "cell_type": "code",
   "execution_count": 17,
   "metadata": {},
   "outputs": [
    {
     "data": {
      "image/png": "[encoded data removed]",
      "text/plain": [
       "<Figure size 640x480 with 1 Axes>"
      ]
     },
     "metadata": {},
     "output_type": "display_data"
    }
   ],
   "source": [
    "tf.plot(x='Features', \n",
    "        kind='bar', \n",
    "        stacked=False, \n",
    "        title='Average F1 Score')\n",
    "plt.ylim(bottom=0.75,top=0.9)\n",
    "plt.show()\n",
    "# clear that amongst all the models, Random Forest (RF) performs the best; \n",
    "# also apparent that at best results are at 350 features for Random forest - \n",
    "# indicative that presence of all features can be useful in coming up with a good model\n"
   ]
  },
  {
   "cell_type": "code",
   "execution_count": 18,
   "metadata": {},
   "outputs": [],
   "source": [
    "best_cols = forest_features # looking at all of the featurs (alll columns)"
   ]
  },
  {
   "cell_type": "markdown",
   "metadata": {},
   "source": [
    "## 3. Model Training and Hyperparameter Evaluation"
   ]
  },
  {
   "cell_type": "code",
   "execution_count": 19,
   "metadata": {},
   "outputs": [],
   "source": [
    "reverse_lis = [k for k,_ in sorted(dic.items(),key=lambda x:x[-1])]\n",
    "reverse_lis = [reverse_lis[0]+'/'+reverse_lis[1]]+reverse_lis[2:] "
   ]
  },
  {
   "cell_type": "markdown",
   "metadata": {},
   "source": [
    "Based on some experimentation and research, our group has decided to utilise a hierarchical classification approach with 2 models, a primary model to classify the data into 4 classes -> **healthy/screening stage cancer**, **early stage cancer**, **mid stage cancer**, **late stage cancer**. \n",
    "\n",
    "The predicted results belonging to the first class, **healthy/screening stage cancer**, would then be fed into a secondary model to be further split into 2 classes -> **healthy** and **screening stage cancer**, such that all 5 distinct classes would be obtained. The reason for choosing such an approach is due to the enhanced performance this multi-model approach grants as opposed to using just 1 model in terms of overall precision and accuracy, while retaining generalisability and explainability."
   ]
  },
  {
   "cell_type": "markdown",
   "metadata": {},
   "source": [
    "### 3.1 Primary Model"
   ]
  },
  {
   "cell_type": "code",
   "execution_count": 20,
   "metadata": {},
   "outputs": [],
   "source": [
    "params = {'bootstrap': [True,False],\n",
    " 'max_depth': [50, 75, 100, None],\n",
    " 'min_samples_split': [2, 5],\n",
    " 'criterion':['gini','entropy','log_loss'],\n",
    " 'n_estimators': [100,200,300]}\n",
    "\n",
    "def f1_eval(y_true, y_pred):\n",
    "    f1 = f1_score(y_true, y_pred, average='macro')\n",
    "    return f1\n",
    "\n",
    "f1_scorer = make_scorer(f1_eval, greater_is_better=True)\n",
    "\n",
    "rf_grid = GridSearchCV(estimator = RandomForestClassifier(random_state=r_state,class_weight='balanced'), param_grid= params, \n",
    "                        cv = StratifiedKFold(n_splits=5,random_state=r_state,shuffle=True),scoring = f1_scorer,n_jobs=-1)\n",
    "# Grid Search CV is used to evaluate ALL narrowed down parameters to give optimised result"
   ]
  },
  {
   "cell_type": "markdown",
   "metadata": {},
   "source": [
    "With the Random Forest Classifier having the best performance for classifying the various cancer stages, Grid Search Cross Validation is employed with the above hyperparameters in the `params` dictionary being used to enhance the model's performance. The f1 metric used is as a scorer for different models as we want to optimise both the *precision* (% of TP/(TP+FP)) and *recall* (% of TP/(TP+FN)) of all classes in the model. Stratified K-Fold Cross Validation is also used in order to assess each hyperparameterised model's performance on multiple validation sets."
   ]
  },
  {
   "cell_type": "code",
   "execution_count": 21,
   "metadata": {},
   "outputs": [
    {
     "name": "stdout",
     "output_type": "stream",
     "text": [
      "{'bootstrap': False, 'criterion': 'entropy', 'max_depth': 50, 'min_samples_split': 5, 'n_estimators': 300}\n"
     ]
    }
   ],
   "source": [
    "# takes about 15-30 min to run this code cell\n",
    "\n",
    "rf_grid.fit(df[best_cols],df[target]) \n",
    "print(rf_grid.best_params_)\n",
    "\n",
    "# may remove the string quotes to run the code; doing so will lengthen the runtime of the file\n",
    "\n",
    "### Observed Output ###\n",
    "# {'bootstrap': False, 'criterion': 'entropy', 'max_depth': 50, 'min_samples_split': 5, 'n_estimators': 300}"
   ]
  },
  {
   "cell_type": "code",
   "execution_count": 22,
   "metadata": {},
   "outputs": [
    {
     "name": "stdout",
     "output_type": "stream",
     "text": [
      "                                precision    recall  f1-score   support\n",
      "\n",
      "healthy/screening stage cancer       0.88      0.91      0.89       193\n",
      "            early stage cancer       0.87      0.88      0.87       273\n",
      "              mid stage cancer       0.83      0.82      0.83       159\n",
      "             late stage cancer       0.95      0.87      0.91       143\n",
      "\n",
      "                      accuracy                           0.88       768\n",
      "                     macro avg       0.88      0.87      0.88       768\n",
      "                  weighted avg       0.88      0.88      0.88       768\n",
      "\n"
     ]
    }
   ],
   "source": [
    "rf_b = RandomForestClassifier(random_state=r_state,class_weight='balanced')\n",
    "rf_b.fit(df[best_cols],df[target]) \n",
    "y_pred_base = rf_b.predict(dfv[best_cols])\n",
    "print(classification_report(dfv[target],y_pred_base,target_names = reverse_lis)) \n",
    "# performance of base model on validation set (dfv)"
   ]
  },
  {
   "cell_type": "code",
   "execution_count": 23,
   "metadata": {},
   "outputs": [
    {
     "name": "stdout",
     "output_type": "stream",
     "text": [
      "                                precision    recall  f1-score   support\n",
      "\n",
      "healthy/screening stage cancer       0.89      0.92      0.90       193\n",
      "            early stage cancer       0.89      0.89      0.89       273\n",
      "              mid stage cancer       0.84      0.86      0.85       159\n",
      "             late stage cancer       0.95      0.87      0.91       143\n",
      "\n",
      "                      accuracy                           0.89       768\n",
      "                     macro avg       0.89      0.89      0.89       768\n",
      "                  weighted avg       0.89      0.89      0.89       768\n",
      "\n"
     ]
    }
   ],
   "source": [
    "rf_h = RandomForestClassifier(random_state=r_state,max_depth = 50,max_leaf_nodes = None,min_samples_split = 5,\n",
    "    n_estimators = 300,class_weight='balanced',criterion='entropy',bootstrap=False)\n",
    "rf_h.fit(df[best_cols],df[target]) \n",
    "y_pred_hyper = rf_h.predict(dfv[best_cols])\n",
    "print(classification_report(dfv[target],y_pred_hyper,target_names = reverse_lis)) \n",
    "# performance of hyperparameterised model on validation set (dfv)\n",
    "# hyperparameter model performs marginally better to original model >> regardless, better f1 performance"
   ]
  },
  {
   "cell_type": "code",
   "execution_count": 24,
   "metadata": {},
   "outputs": [
    {
     "name": "stdout",
     "output_type": "stream",
     "text": [
      "                                precision    recall  f1-score   support\n",
      "\n",
      "healthy/screening stage cancer       0.76      0.56      0.64       271\n",
      "            early stage cancer       0.63      0.73      0.67       368\n",
      "              mid stage cancer       0.62      0.73      0.67       206\n",
      "             late stage cancer       0.89      0.79      0.83       189\n",
      "\n",
      "                      accuracy                           0.69      1034\n",
      "                     macro avg       0.73      0.70      0.71      1034\n",
      "                  weighted avg       0.71      0.69      0.70      1034\n",
      "\n"
     ]
    }
   ],
   "source": [
    "# performance of base model on test set (unseen data)\n",
    "print(classification_report(test_df[target],rf_b.predict(test_df[best_cols]) ,target_names = reverse_lis))"
   ]
  },
  {
   "cell_type": "code",
   "execution_count": 25,
   "metadata": {},
   "outputs": [
    {
     "name": "stdout",
     "output_type": "stream",
     "text": [
      "                                precision    recall  f1-score   support\n",
      "\n",
      "healthy/screening stage cancer       0.76      0.56      0.64       271\n",
      "            early stage cancer       0.64      0.72      0.68       368\n",
      "              mid stage cancer       0.62      0.76      0.68       206\n",
      "             late stage cancer       0.89      0.78      0.83       189\n",
      "\n",
      "                      accuracy                           0.70      1034\n",
      "                     macro avg       0.72      0.70      0.71      1034\n",
      "                  weighted avg       0.71      0.70      0.70      1034\n",
      "\n"
     ]
    }
   ],
   "source": [
    "# performance of hyperparameterised model on test set (unseen data)\n",
    "print(classification_report(test_df[target],rf_h.predict(test_df[best_cols]),target_names = reverse_lis))\n",
    "# hyperparametised model performs slightly BETTER on test set wrt f1 score\n",
    "# than base/default model with no change to parameters; will use it for sure"
   ]
  },
  {
   "cell_type": "markdown",
   "metadata": {},
   "source": [
    "### 3.2 Secondary Model"
   ]
  },
  {
   "cell_type": "code",
   "execution_count": 26,
   "metadata": {},
   "outputs": [
    {
     "data": {
      "text/plain": [
       "1    367\n",
       "0    275\n",
       "Name: class_label, dtype: int64"
      ]
     },
     "execution_count": 26,
     "metadata": {},
     "output_type": "execute_result"
    }
   ],
   "source": [
    "db = pd.read_csv(r\".\\NUS_IT\\Train_Set.csv\")\n",
    "test_db = pd.read_csv(r\".\\NUS_IT\\Test_Set.csv\")\n",
    "\n",
    "db = db[db[target].isin(['healthy','screening stage cancer'])].copy() \n",
    "# secondar mode is trained only on instances whereby the `class_label` is either healthy / screening stage cancer\n",
    "val_p = 0.25 # slightly smaller validation set percentage to account for the smaller data size \n",
    "# --> allow the training set to be bigger\n",
    "\n",
    "dic2 = {'healthy':0,'screening stage cancer':1}\n",
    "db[target] = db[target].map(dic2)\n",
    "\n",
    "X_train,X_test,y_train,y_test= train_test_split(db[X_features],db[target],test_size=val_p,stratify=db[target],random_state = r_state)\n",
    "ros = RandomOverSampler(random_state = r_state,sampling_strategy=0.75) \n",
    "# because the initial sample size of data is so much significantly smaller, \n",
    "# some oversampling for the minority class is also performed \n",
    "X_train,y_train = ros.fit_resample(X_train,y_train)\n",
    "db = pd.concat([X_train,y_train],axis=1) \n",
    "# train dataset\n",
    "dbv = pd.concat([X_test,y_test],axis=1) \n",
    "# validation dataset\n",
    "best_cols = forest_features\n",
    "db[target].value_counts()"
   ]
  },
  {
   "cell_type": "code",
   "execution_count": 27,
   "metadata": {},
   "outputs": [
    {
     "name": "stdout",
     "output_type": "stream",
     "text": [
      "Logistic Regression Model:\n",
      "                        precision    recall  f1-score   support\n",
      "\n",
      "               healthy       0.13      0.53      0.21        15\n",
      "screening stage cancer       0.91      0.55      0.69       123\n",
      "\n",
      "              accuracy                           0.55       138\n",
      "             macro avg       0.52      0.54      0.45       138\n",
      "          weighted avg       0.82      0.55      0.63       138\n",
      "\n",
      "\n",
      "Random Forest Model:\n",
      "                        precision    recall  f1-score   support\n",
      "\n",
      "               healthy       0.10      0.07      0.08        15\n",
      "screening stage cancer       0.89      0.93      0.91       123\n",
      "\n",
      "              accuracy                           0.83       138\n",
      "             macro avg       0.50      0.50      0.49       138\n",
      "          weighted avg       0.80      0.83      0.82       138\n",
      "\n",
      "\n",
      "Decision Tree Model:\n",
      "                        precision    recall  f1-score   support\n",
      "\n",
      "               healthy       0.18      0.13      0.15        15\n",
      "screening stage cancer       0.90      0.93      0.91       123\n",
      "\n",
      "              accuracy                           0.84       138\n",
      "             macro avg       0.54      0.53      0.53       138\n",
      "          weighted avg       0.82      0.84      0.83       138\n",
      "\n",
      "\n",
      "Gradient Boosting Model:\n",
      "                        precision    recall  f1-score   support\n",
      "\n",
      "               healthy       0.40      0.13      0.20        15\n",
      "screening stage cancer       0.90      0.98      0.94       123\n",
      "\n",
      "              accuracy                           0.88       138\n",
      "             macro avg       0.65      0.55      0.57       138\n",
      "          weighted avg       0.85      0.88      0.86       138\n",
      "\n"
     ]
    }
   ],
   "source": [
    "## comparison of different models for binary classification\n",
    "\n",
    "lr = LogisticRegression(class_weight='balanced',random_state=r_state) # default of logistic regression\n",
    "lr.fit(db[best_cols],db[target])\n",
    "print(\"Logistic Regression Model:\")\n",
    "print(classification_report(dbv[target],lr.predict(dbv[best_cols]),target_names=dic2.keys()))\n",
    "# top 3 performing models (Random forest, Gradient Boost & Decision Tree) previously utilised \n",
    "# used again in hopes of similar performance\n",
    "print(\"\\nRandom Forest Model:\")\n",
    "rf = RandomForestClassifier(class_weight='balanced',random_state=r_state)\n",
    "rf.fit(db[best_cols],db[target])\n",
    "print(classification_report(dbv[target],rf.predict(dbv[best_cols]),target_names=dic2.keys()))\n",
    "print(\"\\nDecision Tree Model:\")\n",
    "dt = DecisionTreeClassifier(class_weight='balanced',random_state=r_state)\n",
    "dt.fit(db[best_cols],db[target])\n",
    "print(classification_report(dbv[target],dt.predict(dbv[best_cols]),target_names=dic2.keys()))\n",
    "print(\"\\nGradient Boosting Model:\")\n",
    "gb = GradientBoostingClassifier(random_state=r_state)\n",
    "gb.fit(db[best_cols],db[target])\n",
    "print(classification_report(dbv[target],gb.predict(dbv[best_cols]),target_names=dic2.keys()))\n",
    "# results indicate how precision and recall for healthy samples will be significantly lower -> best \n",
    "# results so far are for Gradient Boosting model\n",
    "\n",
    "# metric used to evaluate performance of the model this time is precision; owing to greater priority of \n",
    "# people being classified as healthy actually BEING healthy (TP) as opposed to requiring screening (FP)\n",
    "\n",
    "# all columns reused"
   ]
  },
  {
   "cell_type": "code",
   "execution_count": 28,
   "metadata": {},
   "outputs": [],
   "source": [
    "params2 = {\n",
    "    'loss':['log_loss','exponential'],\n",
    "    'criterion':['friedman_mse','squared_error'],\n",
    "    'n_estimators':[100,200,300],\n",
    "    'max_depth':[2,3,5,7],\n",
    "    'subsample':[0.5,0.75,1]}\n",
    "\n",
    "def precision_eval(y_true, y_pred): # scoring metric of precision used\n",
    "    precision = precision_score(y_true, (y_pred > 0.5),pos_label=0)\n",
    "    return precision\n",
    "\n",
    "scorer = make_scorer(precision_eval)\n",
    "gb_grid = GridSearchCV(estimator = GradientBoostingClassifier(random_state=r_state), param_grid= params2, \n",
    "                        cv = StratifiedKFold(n_splits=3,random_state=r_state,shuffle=True), scoring = scorer, n_jobs=-1)\n",
    "# Grid Search CV used again for hyperparameter tuning of Gradient Boost model"
   ]
  },
  {
   "cell_type": "code",
   "execution_count": 29,
   "metadata": {},
   "outputs": [
    {
     "name": "stdout",
     "output_type": "stream",
     "text": [
      "{'criterion': 'squared_error', 'loss': 'log_loss', 'max_depth': 5, 'n_estimators': 100, 'subsample': 0.75}\n"
     ]
    }
   ],
   "source": [
    "# takes about 15 - 30 minutes to run\n",
    "\n",
    "gb_grid.fit(db[best_cols],db[target]) \n",
    "print(gb_grid.best_params_)\n",
    "\n",
    "# may remove the string quotes to run the code; doing so will lengthen the runtime of the file\n",
    "\n",
    "## Output ##\n",
    "# {'criterion': 'squared_error', 'loss': 'log_loss', 'max_depth': 5, 'n_estimators': 100, 'subsample': 0.75}"
   ]
  },
  {
   "cell_type": "code",
   "execution_count": 30,
   "metadata": {},
   "outputs": [
    {
     "data": {
      "text/html": [
       "<style>#sk-container-id-1 {color: black;background-color: white;}#sk-container-id-1 pre{padding: 0;}#sk-container-id-1 div.sk-toggleable {background-color: white;}#sk-container-id-1 label.sk-toggleable__label {cursor: pointer;display: block;width: 100%;margin-bottom: 0;padding: 0.3em;box-sizing: border-box;text-align: center;}#sk-container-id-1 label.sk-toggleable__label-arrow:before {content: \"▸\";float: left;margin-right: 0.25em;color: #696969;}#sk-container-id-1 label.sk-toggleable__label-arrow:hover:before {color: black;}#sk-container-id-1 div.sk-estimator:hover label.sk-toggleable__label-arrow:before {color: black;}#sk-container-id-1 div.sk-toggleable__content {max-height: 0;max-width: 0;overflow: hidden;text-align: left;background-color: #f0f8ff;}#sk-container-id-1 div.sk-toggleable__content pre {margin: 0.2em;color: black;border-radius: 0.25em;background-color: #f0f8ff;}#sk-container-id-1 input.sk-toggleable__control:checked~div.sk-toggleable__content {max-height: 200px;max-width: 100%;overflow: auto;}#sk-container-id-1 input.sk-toggleable__control:checked~label.sk-toggleable__label-arrow:before {content: \"▾\";}#sk-container-id-1 div.sk-estimator input.sk-toggleable__control:checked~label.sk-toggleable__label {background-color: #d4ebff;}#sk-container-id-1 div.sk-label input.sk-toggleable__control:checked~label.sk-toggleable__label {background-color: #d4ebff;}#sk-container-id-1 input.sk-hidden--visually {border: 0;clip: rect(1px 1px 1px 1px);clip: rect(1px, 1px, 1px, 1px);height: 1px;margin: -1px;overflow: hidden;padding: 0;position: absolute;width: 1px;}#sk-container-id-1 div.sk-estimator {font-family: monospace;background-color: #f0f8ff;border: 1px dotted black;border-radius: 0.25em;box-sizing: border-box;margin-bottom: 0.5em;}#sk-container-id-1 div.sk-estimator:hover {background-color: #d4ebff;}#sk-container-id-1 div.sk-parallel-item::after {content: \"\";width: 100%;border-bottom: 1px solid gray;flex-grow: 1;}#sk-container-id-1 div.sk-label:hover label.sk-toggleable__label {background-color: #d4ebff;}#sk-container-id-1 div.sk-serial::before {content: \"\";position: absolute;border-left: 1px solid gray;box-sizing: border-box;top: 0;bottom: 0;left: 50%;z-index: 0;}#sk-container-id-1 div.sk-serial {display: flex;flex-direction: column;align-items: center;background-color: white;padding-right: 0.2em;padding-left: 0.2em;position: relative;}#sk-container-id-1 div.sk-item {position: relative;z-index: 1;}#sk-container-id-1 div.sk-parallel {display: flex;align-items: stretch;justify-content: center;background-color: white;position: relative;}#sk-container-id-1 div.sk-item::before, #sk-container-id-1 div.sk-parallel-item::before {content: \"\";position: absolute;border-left: 1px solid gray;box-sizing: border-box;top: 0;bottom: 0;left: 50%;z-index: -1;}#sk-container-id-1 div.sk-parallel-item {display: flex;flex-direction: column;z-index: 1;position: relative;background-color: white;}#sk-container-id-1 div.sk-parallel-item:first-child::after {align-self: flex-end;width: 50%;}#sk-container-id-1 div.sk-parallel-item:last-child::after {align-self: flex-start;width: 50%;}#sk-container-id-1 div.sk-parallel-item:only-child::after {width: 0;}#sk-container-id-1 div.sk-dashed-wrapped {border: 1px dashed gray;margin: 0 0.4em 0.5em 0.4em;box-sizing: border-box;padding-bottom: 0.4em;background-color: white;}#sk-container-id-1 div.sk-label label {font-family: monospace;font-weight: bold;display: inline-block;line-height: 1.2em;}#sk-container-id-1 div.sk-label-container {text-align: center;}#sk-container-id-1 div.sk-container {/* jupyter's `normalize.less` sets `[hidden] { display: none; }` but bootstrap.min.css set `[hidden] { display: none !important; }` so we also need the `!important` here to be able to override the default hidden behavior on the sphinx rendered scikit-learn.org. See: https://github.com/scikit-learn/scikit-learn/issues/21755 */display: inline-block !important;position: relative;}#sk-container-id-1 div.sk-text-repr-fallback {display: none;}</style><div id=\"sk-container-id-1\" class=\"sk-top-container\"><div class=\"sk-text-repr-fallback\"><pre>GradientBoostingClassifier(criterion=&#x27;squared_error&#x27;, max_depth=5,\n",
       "                           random_state=27, subsample=0.75)</pre><b>In a Jupyter environment, please rerun this cell to show the HTML representation or trust the notebook. <br />On GitHub, the HTML representation is unable to render, please try loading this page with nbviewer.org.</b></div><div class=\"sk-container\" hidden><div class=\"sk-item\"><div class=\"sk-estimator sk-toggleable\"><input class=\"sk-toggleable__control sk-hidden--visually\" id=\"sk-estimator-id-1\" type=\"checkbox\" checked><label for=\"sk-estimator-id-1\" class=\"sk-toggleable__label sk-toggleable__label-arrow\">GradientBoostingClassifier</label><div class=\"sk-toggleable__content\"><pre>GradientBoostingClassifier(criterion=&#x27;squared_error&#x27;, max_depth=5,\n",
       "                           random_state=27, subsample=0.75)</pre></div></div></div></div></div>"
      ],
      "text/plain": [
       "GradientBoostingClassifier(criterion='squared_error', max_depth=5,\n",
       "                           random_state=27, subsample=0.75)"
      ]
     },
     "execution_count": 30,
     "metadata": {},
     "output_type": "execute_result"
    }
   ],
   "source": [
    "gb_h = GradientBoostingClassifier(random_state=r_state,n_estimators=100,max_depth=5,loss='log_loss',subsample = 0.75, criterion='squared_error')\n",
    "gb_h.fit(db[best_cols],db[target])"
   ]
  },
  {
   "cell_type": "code",
   "execution_count": 31,
   "metadata": {},
   "outputs": [],
   "source": [
    "test_db = test_db[test_db[target].isin(['healthy','screening stage cancer'])].copy()\n",
    "test_db[target] = test_db[target].map(dic2) # evaluation of hyperparameterised model to be evaluated on test set"
   ]
  },
  {
   "cell_type": "code",
   "execution_count": 32,
   "metadata": {},
   "outputs": [
    {
     "name": "stdout",
     "output_type": "stream",
     "text": [
      "                        precision    recall  f1-score   support\n",
      "\n",
      "               healthy       0.33      0.24      0.28        41\n",
      "screening stage cancer       0.87      0.91      0.89       230\n",
      "\n",
      "              accuracy                           0.81       271\n",
      "             macro avg       0.60      0.58      0.59       271\n",
      "          weighted avg       0.79      0.81      0.80       271\n",
      "\n"
     ]
    }
   ],
   "source": [
    "print(classification_report(test_db[target],gb.predict(test_db[best_cols]),target_names=dic2.keys())) \n",
    "# performance of default Gradient boost model on test set"
   ]
  },
  {
   "cell_type": "code",
   "execution_count": 33,
   "metadata": {},
   "outputs": [
    {
     "name": "stdout",
     "output_type": "stream",
     "text": [
      "                        precision    recall  f1-score   support\n",
      "\n",
      "               healthy       0.56      0.24      0.34        41\n",
      "screening stage cancer       0.88      0.97      0.92       230\n",
      "\n",
      "              accuracy                           0.86       271\n",
      "             macro avg       0.72      0.60      0.63       271\n",
      "          weighted avg       0.83      0.86      0.83       271\n",
      "\n"
     ]
    }
   ],
   "source": [
    "print(classification_report(test_db[target],gb_h.predict(test_db[best_cols]),target_names=dic2.keys()))\n",
    "# performance of hyperparamterised Gradient boost model on test set --> better precision especially for healthy samples"
   ]
  },
  {
   "cell_type": "code",
   "execution_count": 34,
   "metadata": {},
   "outputs": [],
   "source": [
    "primary_model = rf_h\n",
    "secondary_model = gb_h"
   ]
  },
  {
   "cell_type": "markdown",
   "metadata": {},
   "source": [
    "## 4. Saving the final models"
   ]
  },
  {
   "cell_type": "code",
   "execution_count": 35,
   "metadata": {},
   "outputs": [
    {
     "name": "stdout",
     "output_type": "stream",
     "text": [
      "                        precision    recall  f1-score   support\n",
      "\n",
      "    early stage cancer       0.64      0.72      0.68       368\n",
      "               healthy       0.47      0.17      0.25        41\n",
      "     late stage cancer       0.89      0.78      0.83       189\n",
      "      mid stage cancer       0.62      0.76      0.68       206\n",
      "screening stage cancer       0.64      0.51      0.57       230\n",
      "\n",
      "              accuracy                           0.67      1034\n",
      "             macro avg       0.65      0.59      0.60      1034\n",
      "          weighted avg       0.67      0.67      0.66      1034\n",
      "\n"
     ]
    }
   ],
   "source": [
    "### Evaluation of performance of both primary and secondary models together on test data (unseen data)\n",
    "\n",
    "tf = pd.read_csv(r\".\\NUS_IT\\Test_Set.csv\")\n",
    "tf = tf.reset_index().drop(columns='index') # to ensure test set/ any dataset parsed in for testing has its indices organised\n",
    "colnames = primary_model.feature_names_in_ # get the columns required for the primary model\n",
    "pred_pri = primary_model.predict(tf[colnames])\n",
    "pred_healthy_or_screening_idx = list(map(lambda x:x[0],filter(lambda x:x[-1]==1,[(i,e) for i,e in enumerate(list(pred_pri))])))\n",
    "# code to find the indexes in the predicted output where the prediction is 1 \n",
    "# (healthy/screening stage) for secondary model to split\n",
    "pred_pri_cfm = list(filter(lambda x:x[-1]!=1,[(i,e) for i,e in enumerate(list(pred_pri))]))\n",
    "# other results are left as is\n",
    "tf2 = tf[tf.index.isin(pred_healthy_or_screening_idx)].copy()\n",
    "colnames = secondary_model.feature_names_in_ # get the columns required for the secondary model (same as primary model)\n",
    "pred_sec = secondary_model.predict(tf2[colnames])\n",
    "pred_sec_cfm = list(zip(tf2.index,pred_sec)) # merge index number w prediction status\n",
    "pred_res = sorted(pred_pri_cfm + pred_sec_cfm,key=lambda x:x[0])\n",
    "# all predictions are merged together and sorted based on index positions\n",
    "reverse_dic = {0:'healthy',1:'screening stage cancer',2:'early stage cancer',3:'mid stage cancer',4:'late stage cancer'} \n",
    "# dictionary used to map numbers to category names\n",
    "pred = pd.Series(list(map(lambda x:reverse_dic[x[1]],pred_res)))\n",
    "pred.name = 'predicted'\n",
    "print(classification_report(tf[target],pred))"
   ]
  },
  {
   "cell_type": "code",
   "execution_count": 36,
   "metadata": {},
   "outputs": [],
   "source": [
    "# models are saved into pickle files\n",
    "with open('CancerStagersPrimaryModel.pkl','wb') as f:\n",
    "    pickle.dump(primary_model,f) \n",
    "with open('CancerStagersSecondaryModel.pkl','wb') as f:\n",
    "    pickle.dump(secondary_model,f) "
   ]
  }
 ],
 "metadata": {
  "kernelspec": {
   "display_name": "Python 3",
   "language": "python",
   "name": "python3"
  },
  "language_info": {
   "codemirror_mode": {
    "name": "ipython",
    "version": 3
   },
   "file_extension": ".py",
   "mimetype": "text/x-python",
   "name": "python",
   "nbconvert_exporter": "python",
   "pygments_lexer": "ipython3",
   "version": "3.11.4"
  }
 },
 "nbformat": 4,
 "nbformat_minor": 2
}
